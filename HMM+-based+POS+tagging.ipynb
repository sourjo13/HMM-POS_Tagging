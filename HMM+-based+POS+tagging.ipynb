{
 "cells": [
  {
   "cell_type": "markdown",
   "metadata": {},
   "source": [
    "## POS tagging using modified Viterbi"
   ]
  },
  {
   "cell_type": "markdown",
   "metadata": {},
   "source": [
    "## 1. Exploring Treebank Tagged Corpus_Universal_Dataset"
   ]
  },
  {
   "cell_type": "markdown",
   "metadata": {},
   "source": [
    "### Data Preparation"
   ]
  },
  {
   "cell_type": "code",
   "execution_count": 60,
   "metadata": {},
   "outputs": [
    {
     "name": "stderr",
     "output_type": "stream",
     "text": [
      "[nltk_data] Downloading package universal_tagset to\n",
      "[nltk_data]     C:\\Users\\USER\\AppData\\Roaming\\nltk_data...\n",
      "[nltk_data]   Package universal_tagset is already up-to-date!\n"
     ]
    }
   ],
   "source": [
    "#Importing libraries\n",
    "import nltk\n",
    "nltk.download('universal_tagset')\n",
    "import re, pprint\n",
    "import numpy as np\n",
    "import pandas as pd\n",
    "import requests\n",
    "import matplotlib.pyplot as plt\n",
    "import seaborn as sns\n",
    "import pprint, time\n",
    "import random\n",
    "from sklearn.model_selection import train_test_split\n",
    "from nltk.tokenize import word_tokenize"
   ]
  },
  {
   "cell_type": "code",
   "execution_count": 61,
   "metadata": {},
   "outputs": [],
   "source": [
    "# reading the Treebank tagged sentences\n",
    "nltk_data = list(nltk.corpus.treebank.tagged_sents(tagset='universal'))"
   ]
  },
  {
   "cell_type": "code",
   "execution_count": 62,
   "metadata": {},
   "outputs": [
    {
     "name": "stdout",
     "output_type": "stream",
     "text": [
      "[[('Pierre', 'NOUN'), ('Vinken', 'NOUN'), (',', '.'), ('61', 'NUM'), ('years', 'NOUN'), ('old', 'ADJ'), (',', '.'), ('will', 'VERB'), ('join', 'VERB'), ('the', 'DET'), ('board', 'NOUN'), ('as', 'ADP'), ('a', 'DET'), ('nonexecutive', 'ADJ'), ('director', 'NOUN'), ('Nov.', 'NOUN'), ('29', 'NUM'), ('.', '.')], [('Mr.', 'NOUN'), ('Vinken', 'NOUN'), ('is', 'VERB'), ('chairman', 'NOUN'), ('of', 'ADP'), ('Elsevier', 'NOUN'), ('N.V.', 'NOUN'), (',', '.'), ('the', 'DET'), ('Dutch', 'NOUN'), ('publishing', 'VERB'), ('group', 'NOUN'), ('.', '.')], [('Rudolph', 'NOUN'), ('Agnew', 'NOUN'), (',', '.'), ('55', 'NUM'), ('years', 'NOUN'), ('old', 'ADJ'), ('and', 'CONJ'), ('former', 'ADJ'), ('chairman', 'NOUN'), ('of', 'ADP'), ('Consolidated', 'NOUN'), ('Gold', 'NOUN'), ('Fields', 'NOUN'), ('PLC', 'NOUN'), (',', '.'), ('was', 'VERB'), ('named', 'VERB'), ('*-1', 'X'), ('a', 'DET'), ('nonexecutive', 'ADJ'), ('director', 'NOUN'), ('of', 'ADP'), ('this', 'DET'), ('British', 'ADJ'), ('industrial', 'ADJ'), ('conglomerate', 'NOUN'), ('.', '.')], [('A', 'DET'), ('form', 'NOUN'), ('of', 'ADP'), ('asbestos', 'NOUN'), ('once', 'ADV'), ('used', 'VERB'), ('*', 'X'), ('*', 'X'), ('to', 'PRT'), ('make', 'VERB'), ('Kent', 'NOUN'), ('cigarette', 'NOUN'), ('filters', 'NOUN'), ('has', 'VERB'), ('caused', 'VERB'), ('a', 'DET'), ('high', 'ADJ'), ('percentage', 'NOUN'), ('of', 'ADP'), ('cancer', 'NOUN'), ('deaths', 'NOUN'), ('among', 'ADP'), ('a', 'DET'), ('group', 'NOUN'), ('of', 'ADP'), ('workers', 'NOUN'), ('exposed', 'VERB'), ('*', 'X'), ('to', 'PRT'), ('it', 'PRON'), ('more', 'ADV'), ('than', 'ADP'), ('30', 'NUM'), ('years', 'NOUN'), ('ago', 'ADP'), (',', '.'), ('researchers', 'NOUN'), ('reported', 'VERB'), ('0', 'X'), ('*T*-1', 'X'), ('.', '.')], [('The', 'DET'), ('asbestos', 'NOUN'), ('fiber', 'NOUN'), (',', '.'), ('crocidolite', 'NOUN'), (',', '.'), ('is', 'VERB'), ('unusually', 'ADV'), ('resilient', 'ADJ'), ('once', 'ADP'), ('it', 'PRON'), ('enters', 'VERB'), ('the', 'DET'), ('lungs', 'NOUN'), (',', '.'), ('with', 'ADP'), ('even', 'ADV'), ('brief', 'ADJ'), ('exposures', 'NOUN'), ('to', 'PRT'), ('it', 'PRON'), ('causing', 'VERB'), ('symptoms', 'NOUN'), ('that', 'DET'), ('*T*-1', 'X'), ('show', 'VERB'), ('up', 'PRT'), ('decades', 'NOUN'), ('later', 'ADJ'), (',', '.'), ('researchers', 'NOUN'), ('said', 'VERB'), ('0', 'X'), ('*T*-2', 'X'), ('.', '.')], [('Lorillard', 'NOUN'), ('Inc.', 'NOUN'), (',', '.'), ('the', 'DET'), ('unit', 'NOUN'), ('of', 'ADP'), ('New', 'ADJ'), ('York-based', 'ADJ'), ('Loews', 'NOUN'), ('Corp.', 'NOUN'), ('that', 'DET'), ('*T*-2', 'X'), ('makes', 'VERB'), ('Kent', 'NOUN'), ('cigarettes', 'NOUN'), (',', '.'), ('stopped', 'VERB'), ('using', 'VERB'), ('crocidolite', 'NOUN'), ('in', 'ADP'), ('its', 'PRON'), ('Micronite', 'NOUN'), ('cigarette', 'NOUN'), ('filters', 'NOUN'), ('in', 'ADP'), ('1956', 'NUM'), ('.', '.')], [('Although', 'ADP'), ('preliminary', 'ADJ'), ('findings', 'NOUN'), ('were', 'VERB'), ('reported', 'VERB'), ('*-2', 'X'), ('more', 'ADV'), ('than', 'ADP'), ('a', 'DET'), ('year', 'NOUN'), ('ago', 'ADP'), (',', '.'), ('the', 'DET'), ('latest', 'ADJ'), ('results', 'NOUN'), ('appear', 'VERB'), ('in', 'ADP'), ('today', 'NOUN'), (\"'s\", 'PRT'), ('New', 'NOUN'), ('England', 'NOUN'), ('Journal', 'NOUN'), ('of', 'ADP'), ('Medicine', 'NOUN'), (',', '.'), ('a', 'DET'), ('forum', 'NOUN'), ('likely', 'ADJ'), ('*', 'X'), ('to', 'PRT'), ('bring', 'VERB'), ('new', 'ADJ'), ('attention', 'NOUN'), ('to', 'PRT'), ('the', 'DET'), ('problem', 'NOUN'), ('.', '.')], [('A', 'DET'), ('Lorillard', 'NOUN'), ('spokewoman', 'NOUN'), ('said', 'VERB'), (',', '.'), ('``', '.'), ('This', 'DET'), ('is', 'VERB'), ('an', 'DET'), ('old', 'ADJ'), ('story', 'NOUN'), ('.', '.')], [('We', 'PRON'), (\"'re\", 'VERB'), ('talking', 'VERB'), ('about', 'ADP'), ('years', 'NOUN'), ('ago', 'ADP'), ('before', 'ADP'), ('anyone', 'NOUN'), ('heard', 'VERB'), ('of', 'ADP'), ('asbestos', 'NOUN'), ('having', 'VERB'), ('any', 'DET'), ('questionable', 'ADJ'), ('properties', 'NOUN'), ('.', '.')], [('There', 'DET'), ('is', 'VERB'), ('no', 'DET'), ('asbestos', 'NOUN'), ('in', 'ADP'), ('our', 'PRON'), ('products', 'NOUN'), ('now', 'ADV'), ('.', '.'), (\"''\", '.')], [('Neither', 'DET'), ('Lorillard', 'NOUN'), ('nor', 'CONJ'), ('the', 'DET'), ('researchers', 'NOUN'), ('who', 'PRON'), ('*T*-3', 'X'), ('studied', 'VERB'), ('the', 'DET'), ('workers', 'NOUN'), ('were', 'VERB'), ('aware', 'ADJ'), ('of', 'ADP'), ('any', 'DET'), ('research', 'NOUN'), ('on', 'ADP'), ('smokers', 'NOUN'), ('of', 'ADP'), ('the', 'DET'), ('Kent', 'NOUN'), ('cigarettes', 'NOUN'), ('.', '.')], [('``', '.'), ('We', 'PRON'), ('have', 'VERB'), ('no', 'DET'), ('useful', 'ADJ'), ('information', 'NOUN'), ('on', 'ADP'), ('whether', 'ADP'), ('users', 'NOUN'), ('are', 'VERB'), ('at', 'ADP'), ('risk', 'NOUN'), (',', '.'), (\"''\", '.'), ('said', 'VERB'), ('*T*-1', 'X'), ('James', 'NOUN'), ('A.', 'NOUN'), ('Talcott', 'NOUN'), ('of', 'ADP'), ('Boston', 'NOUN'), (\"'s\", 'PRT'), ('Dana-Farber', 'NOUN'), ('Cancer', 'NOUN'), ('Institute', 'NOUN'), ('.', '.')], [('Dr.', 'NOUN'), ('Talcott', 'NOUN'), ('led', 'VERB'), ('a', 'DET'), ('team', 'NOUN'), ('of', 'ADP'), ('researchers', 'NOUN'), ('from', 'ADP'), ('the', 'DET'), ('National', 'NOUN'), ('Cancer', 'NOUN'), ('Institute', 'NOUN'), ('and', 'CONJ'), ('the', 'DET'), ('medical', 'ADJ'), ('schools', 'NOUN'), ('of', 'ADP'), ('Harvard', 'NOUN'), ('University', 'NOUN'), ('and', 'CONJ'), ('Boston', 'NOUN'), ('University', 'NOUN'), ('.', '.')], [('The', 'DET'), ('Lorillard', 'NOUN'), ('spokeswoman', 'NOUN'), ('said', 'VERB'), ('0', 'X'), ('asbestos', 'NOUN'), ('was', 'VERB'), ('used', 'VERB'), ('*-1', 'X'), ('in', 'ADP'), ('``', '.'), ('very', 'ADV'), ('modest', 'ADJ'), ('amounts', 'NOUN'), (\"''\", '.'), ('in', 'ADP'), ('*', 'X'), ('making', 'VERB'), ('paper', 'NOUN'), ('for', 'ADP'), ('the', 'DET'), ('filters', 'NOUN'), ('in', 'ADP'), ('the', 'DET'), ('early', 'ADJ'), ('1950s', 'NUM'), ('and', 'CONJ'), ('replaced', 'VERB'), ('*-1', 'X'), ('with', 'ADP'), ('a', 'DET'), ('different', 'ADJ'), ('type', 'NOUN'), ('of', 'ADP'), ('filter', 'NOUN'), ('in', 'ADP'), ('1956', 'NUM'), ('.', '.')], [('From', 'ADP'), ('1953', 'NUM'), ('to', 'PRT'), ('1955', 'NUM'), (',', '.'), ('9.8', 'NUM'), ('billion', 'NUM'), ('Kent', 'NOUN'), ('cigarettes', 'NOUN'), ('with', 'ADP'), ('the', 'DET'), ('filters', 'NOUN'), ('were', 'VERB'), ('sold', 'VERB'), ('*-3', 'X'), (',', '.'), ('the', 'DET'), ('company', 'NOUN'), ('said', 'VERB'), ('0', 'X'), ('*T*-1', 'X'), ('.', '.')], [('Among', 'ADP'), ('33', 'NUM'), ('men', 'NOUN'), ('who', 'PRON'), ('*T*-4', 'X'), ('worked', 'VERB'), ('closely', 'ADV'), ('with', 'ADP'), ('the', 'DET'), ('substance', 'NOUN'), (',', '.'), ('28', 'NUM'), ('*ICH*-1', 'X'), ('have', 'VERB'), ('died', 'VERB'), ('--', '.'), ('more', 'ADJ'), ('than', 'ADP'), ('three', 'NUM'), ('times', 'NOUN'), ('the', 'DET'), ('expected', 'VERB'), ('number', 'NOUN'), ('.', '.')], [('Four', 'NUM'), ('of', 'ADP'), ('the', 'DET'), ('five', 'NUM'), ('surviving', 'VERB'), ('workers', 'NOUN'), ('have', 'VERB'), ('asbestos-related', 'ADJ'), ('diseases', 'NOUN'), (',', '.'), ('including', 'VERB'), ('three', 'NUM'), ('with', 'ADP'), ('recently', 'ADV'), ('diagnosed', 'VERB'), ('cancer', 'NOUN'), ('.', '.')], [('The', 'DET'), ('total', 'NOUN'), ('of', 'ADP'), ('18', 'NUM'), ('deaths', 'NOUN'), ('from', 'ADP'), ('malignant', 'ADJ'), ('mesothelioma', 'NOUN'), (',', '.'), ('lung', 'NOUN'), ('cancer', 'NOUN'), ('and', 'CONJ'), ('asbestosis', 'NOUN'), ('was', 'VERB'), ('far', 'ADV'), ('higher', 'ADJ'), ('than', 'ADP'), ('*', 'X'), ('expected', 'VERB'), ('*?*', 'X'), (',', '.'), ('the', 'DET'), ('researchers', 'NOUN'), ('said', 'VERB'), ('0', 'X'), ('*T*-1', 'X'), ('.', '.')], [('``', '.'), ('The', 'DET'), ('morbidity', 'NOUN'), ('rate', 'NOUN'), ('is', 'VERB'), ('a', 'DET'), ('striking', 'ADJ'), ('finding', 'NOUN'), ('among', 'ADP'), ('those', 'DET'), ('of', 'ADP'), ('us', 'PRON'), ('who', 'PRON'), ('*T*-5', 'X'), ('study', 'VERB'), ('asbestos-related', 'ADJ'), ('diseases', 'NOUN'), (',', '.'), (\"''\", '.'), ('said', 'VERB'), ('*T*-1', 'X'), ('Dr.', 'NOUN'), ('Talcott', 'NOUN'), ('.', '.')], [('The', 'DET'), ('percentage', 'NOUN'), ('of', 'ADP'), ('lung', 'NOUN'), ('cancer', 'NOUN'), ('deaths', 'NOUN'), ('among', 'ADP'), ('the', 'DET'), ('workers', 'NOUN'), ('at', 'ADP'), ('the', 'DET'), ('West', 'NOUN'), ('Groton', 'NOUN'), (',', '.'), ('Mass.', 'NOUN'), (',', '.'), ('paper', 'NOUN'), ('factory', 'NOUN'), ('appears', 'VERB'), ('*-1', 'X'), ('to', 'PRT'), ('be', 'VERB'), ('the', 'DET'), ('highest', 'ADJ'), ('for', 'ADP'), ('any', 'DET'), ('asbestos', 'NOUN'), ('workers', 'NOUN'), ('studied', 'VERB'), ('*', 'X'), ('in', 'ADP'), ('Western', 'ADJ'), ('industrialized', 'VERB'), ('countries', 'NOUN'), (',', '.'), ('he', 'PRON'), ('said', 'VERB'), ('0', 'X'), ('*T*-2', 'X'), ('.', '.')], [('The', 'DET'), ('plant', 'NOUN'), (',', '.'), ('which', 'DET'), ('*T*-1', 'X'), ('is', 'VERB'), ('owned', 'VERB'), ('*-4', 'X'), ('by', 'ADP'), ('Hollingsworth', 'NOUN'), ('&', 'CONJ'), ('Vose', 'NOUN'), ('Co.', 'NOUN'), (',', '.'), ('was', 'VERB'), ('under', 'ADP'), ('contract', 'NOUN'), ('*ICH*-2', 'X'), ('with', 'ADP'), ('Lorillard', 'NOUN'), ('*', 'X'), ('to', 'PRT'), ('make', 'VERB'), ('the', 'DET'), ('cigarette', 'NOUN'), ('filters', 'NOUN'), ('.', '.')], [('The', 'DET'), ('finding', 'NOUN'), ('probably', 'ADV'), ('will', 'VERB'), ('support', 'VERB'), ('those', 'DET'), ('who', 'PRON'), ('*T*-6', 'X'), ('argue', 'VERB'), ('that', 'ADP'), ('the', 'DET'), ('U.S.', 'NOUN'), ('should', 'VERB'), ('regulate', 'VERB'), ('the', 'DET'), ('class', 'NOUN'), ('of', 'ADP'), ('asbestos', 'NOUN'), ('including', 'VERB'), ('crocidolite', 'NOUN'), ('more', 'ADV'), ('stringently', 'ADV'), ('than', 'ADP'), ('the', 'DET'), ('common', 'ADJ'), ('kind', 'NOUN'), ('of', 'ADP'), ('asbestos', 'NOUN'), (',', '.'), ('chrysotile', 'NOUN'), (',', '.'), ('found', 'VERB'), ('*', 'X'), ('in', 'ADP'), ('most', 'ADJ'), ('schools', 'NOUN'), ('and', 'CONJ'), ('other', 'ADJ'), ('buildings', 'NOUN'), (',', '.'), ('Dr.', 'NOUN'), ('Talcott', 'NOUN'), ('said', 'VERB'), ('0', 'X'), ('*T*-1', 'X'), ('.', '.')], [('The', 'DET'), ('U.S.', 'NOUN'), ('is', 'VERB'), ('one', 'NUM'), ('of', 'ADP'), ('the', 'DET'), ('few', 'ADJ'), ('industrialized', 'VERB'), ('nations', 'NOUN'), ('that', 'DET'), ('*T*-7', 'X'), ('does', 'VERB'), (\"n't\", 'ADV'), ('have', 'VERB'), ('a', 'DET'), ('higher', 'ADJ'), ('standard', 'NOUN'), ('of', 'ADP'), ('regulation', 'NOUN'), ('for', 'ADP'), ('the', 'DET'), ('smooth', 'ADJ'), (',', '.'), ('needle-like', 'ADJ'), ('fibers', 'NOUN'), ('such', 'ADJ'), ('as', 'ADP'), ('crocidolite', 'NOUN'), ('that', 'DET'), ('*T*-1', 'X'), ('are', 'VERB'), ('classified', 'VERB'), ('*-5', 'X'), ('as', 'ADP'), ('amphobiles', 'NOUN'), (',', '.'), ('according', 'VERB'), ('to', 'PRT'), ('Brooke', 'NOUN'), ('T.', 'NOUN'), ('Mossman', 'NOUN'), (',', '.'), ('a', 'DET'), ('professor', 'NOUN'), ('of', 'ADP'), ('pathlogy', 'NOUN'), ('at', 'ADP'), ('the', 'DET'), ('University', 'NOUN'), ('of', 'ADP'), ('Vermont', 'NOUN'), ('College', 'NOUN'), ('of', 'ADP'), ('Medicine', 'NOUN'), ('.', '.')], [('More', 'ADV'), ('common', 'ADJ'), ('chrysotile', 'NOUN'), ('fibers', 'NOUN'), ('are', 'VERB'), ('curly', 'ADJ'), ('and', 'CONJ'), ('are', 'VERB'), ('more', 'ADV'), ('easily', 'ADV'), ('rejected', 'VERB'), ('*-1', 'X'), ('by', 'ADP'), ('the', 'DET'), ('body', 'NOUN'), (',', '.'), ('Dr.', 'NOUN'), ('Mossman', 'NOUN'), ('explained', 'VERB'), ('0', 'X'), ('*T*-2', 'X'), ('.', '.')], [('In', 'ADP'), ('July', 'NOUN'), (',', '.'), ('the', 'DET'), ('Environmental', 'NOUN'), ('Protection', 'NOUN'), ('Agency', 'NOUN'), ('imposed', 'VERB'), ('a', 'DET'), ('gradual', 'ADJ'), ('ban', 'NOUN'), ('on', 'ADP'), ('virtually', 'ADV'), ('all', 'DET'), ('uses', 'NOUN'), ('of', 'ADP'), ('asbestos', 'NOUN'), ('.', '.')], [('By', 'ADP'), ('1997', 'NUM'), (',', '.'), ('almost', 'ADV'), ('all', 'DET'), ('remaining', 'VERB'), ('uses', 'NOUN'), ('of', 'ADP'), ('cancer-causing', 'ADJ'), ('asbestos', 'NOUN'), ('will', 'VERB'), ('be', 'VERB'), ('outlawed', 'VERB'), ('*-6', 'X'), ('.', '.')], [('About', 'ADP'), ('160', 'NUM'), ('workers', 'NOUN'), ('at', 'ADP'), ('a', 'DET'), ('factory', 'NOUN'), ('that', 'DET'), ('*T*-8', 'X'), ('made', 'VERB'), ('paper', 'NOUN'), ('for', 'ADP'), ('the', 'DET'), ('Kent', 'NOUN'), ('filters', 'NOUN'), ('were', 'VERB'), ('exposed', 'VERB'), ('*-7', 'X'), ('to', 'PRT'), ('asbestos', 'NOUN'), ('in', 'ADP'), ('the', 'DET'), ('1950s', 'NUM'), ('.', '.')], [('Areas', 'NOUN'), ('of', 'ADP'), ('the', 'DET'), ('factory', 'NOUN'), ('*ICH*-2', 'X'), ('were', 'VERB'), ('particularly', 'ADV'), ('dusty', 'ADJ'), ('where', 'ADV'), ('the', 'DET'), ('crocidolite', 'NOUN'), ('was', 'VERB'), ('used', 'VERB'), ('*-8', 'X'), ('*T*-1', 'X'), ('.', '.')], [('Workers', 'NOUN'), ('dumped', 'VERB'), ('large', 'ADJ'), ('burlap', 'NOUN'), ('sacks', 'NOUN'), ('of', 'ADP'), ('the', 'DET'), ('imported', 'VERB'), ('material', 'NOUN'), ('into', 'ADP'), ('a', 'DET'), ('huge', 'ADJ'), ('bin', 'NOUN'), (',', '.'), ('poured', 'VERB'), ('in', 'PRT'), ('cotton', 'NOUN'), ('and', 'CONJ'), ('acetate', 'NOUN'), ('fibers', 'NOUN'), ('and', 'CONJ'), ('mechanically', 'ADV'), ('mixed', 'VERB'), ('the', 'DET'), ('dry', 'ADJ'), ('fibers', 'NOUN'), ('in', 'ADP'), ('a', 'DET'), ('process', 'NOUN'), ('used', 'VERB'), ('*', 'X'), ('*', 'X'), ('to', 'PRT'), ('make', 'VERB'), ('filters', 'NOUN'), ('.', '.')], [('Workers', 'NOUN'), ('described', 'VERB'), ('``', '.'), ('clouds', 'NOUN'), ('of', 'ADP'), ('blue', 'ADJ'), ('dust', 'NOUN'), (\"''\", '.'), ('that', 'DET'), ('*T*-1', 'X'), ('hung', 'VERB'), ('over', 'ADP'), ('parts', 'NOUN'), ('of', 'ADP'), ('the', 'DET'), ('factory', 'NOUN'), (',', '.'), ('even', 'ADV'), ('though', 'ADP'), ('exhaust', 'NOUN'), ('fans', 'NOUN'), ('ventilated', 'VERB'), ('the', 'DET'), ('area', 'NOUN'), ('.', '.')], [('``', '.'), ('There', 'DET'), (\"'s\", 'VERB'), ('no', 'DET'), ('question', 'NOUN'), ('that', 'ADP'), ('some', 'DET'), ('of', 'ADP'), ('those', 'DET'), ('workers', 'NOUN'), ('and', 'CONJ'), ('managers', 'NOUN'), ('contracted', 'VERB'), ('asbestos-related', 'ADJ'), ('diseases', 'NOUN'), (',', '.'), (\"''\", '.'), ('said', 'VERB'), ('*T*-1', 'X'), ('Darrell', 'NOUN'), ('Phillips', 'NOUN'), (',', '.'), ('vice', 'NOUN'), ('president', 'NOUN'), ('of', 'ADP'), ('human', 'ADJ'), ('resources', 'NOUN'), ('for', 'ADP'), ('Hollingsworth', 'NOUN'), ('&', 'CONJ'), ('Vose', 'NOUN'), ('.', '.')], [('``', '.'), ('But', 'CONJ'), ('you', 'PRON'), ('have', 'VERB'), ('*-1', 'X'), ('to', 'PRT'), ('recognize', 'VERB'), ('that', 'ADP'), ('these', 'DET'), ('events', 'NOUN'), ('took', 'VERB'), ('place', 'NOUN'), ('35', 'NUM'), ('years', 'NOUN'), ('ago', 'ADP'), ('.', '.')], [('It', 'PRON'), ('has', 'VERB'), ('no', 'DET'), ('bearing', 'NOUN'), ('on', 'ADP'), ('our', 'PRON'), ('work', 'NOUN'), ('force', 'NOUN'), ('today', 'NOUN'), ('.', '.')], [('Yields', 'NOUN'), ('on', 'ADP'), ('money-market', 'ADJ'), ('mutual', 'ADJ'), ('funds', 'NOUN'), ('continued', 'VERB'), ('*-1', 'X'), ('to', 'PRT'), ('slide', 'VERB'), (',', '.'), ('amid', 'ADP'), ('signs', 'NOUN'), ('that', 'ADP'), ('portfolio', 'NOUN'), ('managers', 'NOUN'), ('expect', 'VERB'), ('further', 'ADJ'), ('declines', 'NOUN'), ('in', 'ADP'), ('interest', 'NOUN'), ('rates', 'NOUN'), ('.', '.')], [('The', 'DET'), ('average', 'ADJ'), ('seven-day', 'ADJ'), ('compound', 'NOUN'), ('yield', 'NOUN'), ('of', 'ADP'), ('the', 'DET'), ('400', 'NUM'), ('taxable', 'ADJ'), ('funds', 'NOUN'), ('tracked', 'VERB'), ('*', 'X'), ('by', 'ADP'), ('IBC', 'NOUN'), (\"'s\", 'PRT'), ('Money', 'NOUN'), ('Fund', 'NOUN'), ('Report', 'NOUN'), ('eased', 'VERB'), ('a', 'DET'), ('fraction', 'NOUN'), ('of', 'ADP'), ('a', 'DET'), ('percentage', 'NOUN'), ('point', 'NOUN'), ('to', 'PRT'), ('8.45', 'NUM'), ('%', 'NOUN'), ('from', 'ADP'), ('8.47', 'NUM'), ('%', 'NOUN'), ('for', 'ADP'), ('the', 'DET'), ('week', 'NOUN'), ('ended', 'VERB'), ('Tuesday', 'NOUN'), ('.', '.')], [('Compound', 'NOUN'), ('yields', 'NOUN'), ('assume', 'VERB'), ('reinvestment', 'NOUN'), ('of', 'ADP'), ('dividends', 'NOUN'), ('and', 'CONJ'), ('that', 'ADP'), ('the', 'DET'), ('current', 'ADJ'), ('yield', 'NOUN'), ('continues', 'VERB'), ('for', 'ADP'), ('a', 'DET'), ('year', 'NOUN'), ('.', '.')], [('Average', 'ADJ'), ('maturity', 'NOUN'), ('of', 'ADP'), ('the', 'DET'), ('funds', 'NOUN'), (\"'\", 'PRT'), ('investments', 'NOUN'), ('lengthened', 'VERB'), ('by', 'ADP'), ('a', 'DET'), ('day', 'NOUN'), ('to', 'PRT'), ('41', 'NUM'), ('days', 'NOUN'), (',', '.'), ('the', 'DET'), ('longest', 'ADJ'), ('since', 'ADP'), ('early', 'ADJ'), ('August', 'NOUN'), (',', '.'), ('according', 'VERB'), ('to', 'PRT'), ('Donoghue', 'NOUN'), (\"'s\", 'PRT'), ('.', '.')], [('Longer', 'ADJ'), ('maturities', 'NOUN'), ('are', 'VERB'), ('thought', 'VERB'), ('*-1', 'X'), ('to', 'PRT'), ('indicate', 'VERB'), ('declining', 'VERB'), ('interest', 'NOUN'), ('rates', 'NOUN'), ('because', 'ADP'), ('they', 'PRON'), ('permit', 'VERB'), ('portfolio', 'NOUN'), ('managers', 'NOUN'), ('to', 'PRT'), ('retain', 'VERB'), ('relatively', 'ADV'), ('higher', 'ADJ'), ('rates', 'NOUN'), ('for', 'ADP'), ('a', 'DET'), ('longer', 'ADJ'), ('period', 'NOUN'), ('.', '.')], [('Shorter', 'ADJ'), ('maturities', 'NOUN'), ('are', 'VERB'), ('considered', 'VERB'), ('*-9', 'X'), ('a', 'DET'), ('sign', 'NOUN'), ('of', 'ADP'), ('rising', 'VERB'), ('rates', 'NOUN'), ('because', 'ADP'), ('portfolio', 'NOUN'), ('managers', 'NOUN'), ('can', 'VERB'), ('capture', 'VERB'), ('higher', 'ADJ'), ('rates', 'NOUN'), ('sooner', 'ADV'), ('.', '.')], [('The', 'DET'), ('average', 'ADJ'), ('maturity', 'NOUN'), ('for', 'ADP'), ('funds', 'NOUN'), ('open', 'ADJ'), ('only', 'ADV'), ('to', 'PRT'), ('institutions', 'NOUN'), (',', '.'), ('considered', 'VERB'), ('by', 'ADP'), ('some', 'DET'), ('*', 'X'), ('to', 'PRT'), ('be', 'VERB'), ('a', 'DET'), ('stronger', 'ADJ'), ('indicator', 'NOUN'), ('because', 'ADP'), ('those', 'DET'), ('managers', 'NOUN'), ('watch', 'VERB'), ('the', 'DET'), ('market', 'NOUN'), ('closely', 'ADV'), (',', '.'), ('reached', 'VERB'), ('a', 'DET'), ('high', 'ADJ'), ('point', 'NOUN'), ('for', 'ADP'), ('the', 'DET'), ('year', 'NOUN'), ('--', '.'), ('33', 'NUM'), ('days', 'NOUN'), ('.', '.')]]\n"
     ]
    }
   ],
   "source": [
    "# first few tagged sentences\n",
    "print(nltk_data[:40])"
   ]
  },
  {
   "cell_type": "code",
   "execution_count": 63,
   "metadata": {},
   "outputs": [
    {
     "name": "stdout",
     "output_type": "stream",
     "text": [
      "3718\n",
      "196\n",
      "[[('The', 'DET'), ('7', 'NUM'), ('3\\\\/8', 'NUM'), ('%', 'NOUN'), ('term', 'NOUN'), ('bonds', 'NOUN'), ('due', 'ADJ'), ('2009', 'NUM'), ('are', 'VERB'), ('priced', 'VERB'), ('*-1', 'X'), ('at', 'ADP'), ('99', 'NUM'), ('1\\\\/2', 'NUM'), ('*', 'X'), ('to', 'PRT'), ('yield', 'VERB'), ('7.422', 'NUM'), ('%', 'NOUN'), (',', '.'), ('and', 'CONJ'), ('7', 'NUM'), ('3\\\\/8', 'NUM'), ('%', 'NOUN'), ('term', 'NOUN'), ('bonds', 'NOUN'), ('due', 'ADJ'), ('2019', 'NUM'), ('are', 'VERB'), ('priced', 'VERB'), ('*-2', 'X'), ('at', 'ADP'), ('99', 'NUM'), ('*', 'X'), ('to', 'PRT'), ('yield', 'VERB'), ('7.458', 'NUM'), ('%', 'NOUN'), ('.', '.')], [('Still', 'ADV'), (',', '.'), ('many', 'ADJ'), ('economists', 'NOUN'), ('are', 'VERB'), (\"n't\", 'ADV'), ('predicting', 'VERB'), ('a', 'DET'), ('recession', 'NOUN'), ('anytime', 'ADV'), ('soon', 'ADV'), ('.', '.')], [('Typically', 'ADV'), (',', '.'), ('money-fund', 'NOUN'), ('yields', 'NOUN'), ('beat', 'VERB'), ('comparable', 'ADJ'), ('short-term', 'ADJ'), ('investments', 'NOUN'), ('because', 'ADP'), ('portfolio', 'NOUN'), ('managers', 'NOUN'), ('can', 'VERB'), ('vary', 'VERB'), ('maturities', 'NOUN'), ('and', 'CONJ'), ('go', 'VERB'), ('after', 'ADP'), ('the', 'DET'), ('highest', 'ADJ'), ('rates', 'NOUN'), ('.', '.')], [('FIRST', 'NUM'), ('CAMPAIGN', 'NOUN'), (':', '.')], [('This', 'DET'), ('has', 'VERB'), ('some', 'DET'), ('logic', 'NOUN'), ('.', '.')], [('Thus', 'ADV'), (',', '.'), ('an', 'DET'), ('institution', 'NOUN'), ('obligated', 'VERB'), ('*', 'X'), ('to', 'PRT'), ('make', 'VERB'), ('fixed-rate', 'ADJ'), ('interest', 'NOUN'), ('payments', 'NOUN'), ('on', 'ADP'), ('debt', 'NOUN'), ('swaps', 'NOUN'), ('the', 'DET'), ('payments', 'NOUN'), ('with', 'ADP'), ('another', 'DET'), ('making', 'VERB'), ('floating-rate', 'ADJ'), ('payments', 'NOUN'), ('.', '.')], [('Northeast', 'NOUN'), ('said', 'VERB'), ('0', 'X'), ('it', 'PRON'), ('would', 'VERB'), ('refile', 'VERB'), ('its', 'PRON'), ('request', 'NOUN'), ('and', 'CONJ'), ('still', 'ADV'), ('hopes', 'VERB'), ('for', 'ADP'), ('an', 'DET'), ('expedited', 'VERB'), ('review', 'NOUN'), ('by', 'ADP'), ('the', 'DET'), ('FERC', 'NOUN'), ('so', 'ADP'), ('that', 'ADP'), ('it', 'PRON'), ('could', 'VERB'), ('complete', 'VERB'), ('the', 'DET'), ('purchase', 'NOUN'), ('by', 'ADP'), ('next', 'ADJ'), ('summer', 'NOUN'), ('if', 'ADP'), ('its', 'PRON'), ('bid', 'NOUN'), ('is', 'VERB'), ('the', 'DET'), ('one', 'NOUN'), ('approved', 'VERB'), ('*', 'X'), ('by', 'ADP'), ('the', 'DET'), ('bankruptcy', 'NOUN'), ('court', 'NOUN'), ('.', '.')], [('This', 'DET'), ('will', 'VERB'), ('require', 'VERB'), ('us', 'PRON'), ('to', 'PRT'), ('develop', 'VERB'), ('a', 'DET'), ('much', 'ADV'), ('more', 'ADV'), ('sophisticated', 'ADJ'), ('understanding', 'NOUN'), ('of', 'ADP'), ('the', 'DET'), ('dynamics', 'NOUN'), ('of', 'ADP'), ('homelessness', 'NOUN'), ('than', 'ADP'), ('we', 'PRON'), ('currently', 'ADV'), ('possess', 'VERB'), ('*?*', 'X'), (',', '.'), ('an', 'DET'), ('understanding', 'NOUN'), ('that', 'DET'), ('*T*-1', 'X'), ('can', 'VERB'), ('be', 'VERB'), ('developed', 'VERB'), ('*-20', 'X'), ('only', 'ADV'), ('through', 'ADP'), ('careful', 'ADJ'), ('study', 'NOUN'), ('and', 'CONJ'), ('research', 'NOUN'), ('.', '.')], [('And', 'CONJ'), ('it', 'PRON'), ('was', 'VERB'), ('stupid', 'ADJ'), ('.', '.')], [('Inventories', 'NOUN'), ('are', 'VERB'), ('closely', 'ADV'), ('watched', 'VERB'), ('*-1', 'X'), ('for', 'ADP'), ('such', 'ADJ'), ('clues', 'NOUN'), (',', '.'), ('for', 'ADP'), ('instance', 'NOUN'), ('.', '.')], [('As', 'ADP'), ('an', 'DET'), ('indicator', 'NOUN'), ('of', 'ADP'), ('the', 'DET'), ('tight', 'ADJ'), ('grain', 'NOUN'), ('supply', 'NOUN'), ('situation', 'NOUN'), ('in', 'ADP'), ('the', 'DET'), ('U.S.', 'NOUN'), (',', '.'), ('market', 'NOUN'), ('analysts', 'NOUN'), ('said', 'VERB'), ('that', 'ADP'), ('late', 'ADJ'), ('Tuesday', 'NOUN'), ('the', 'DET'), ('Chinese', 'ADJ'), ('government', 'NOUN'), (',', '.'), ('which', 'DET'), ('*T*-1', 'X'), ('often', 'ADV'), ('buys', 'VERB'), ('U.S.', 'NOUN'), ('grains', 'NOUN'), ('in', 'ADP'), ('quantity', 'NOUN'), (',', '.'), ('turned', 'VERB'), ('instead', 'ADV'), ('to', 'PRT'), ('Britain', 'NOUN'), ('*-2', 'X'), ('to', 'PRT'), ('buy', 'VERB'), ('500,000', 'NUM'), ('metric', 'ADJ'), ('tons', 'NOUN'), ('of', 'ADP'), ('wheat', 'NOUN'), ('.', '.')], [('The', 'DET'), ('average', 'ADJ'), ('number', 'NOUN'), ('of', 'ADP'), ('FT-SE', 'NOUN'), ('option', 'NOUN'), ('contracts', 'NOUN'), ('traded', 'VERB'), ('*', 'X'), ('on', 'ADP'), ('the', 'DET'), ('London', 'NOUN'), ('exchange', 'NOUN'), ('has', 'VERB'), ('surged', 'VERB'), ('nearly', 'ADV'), ('tenfold', 'ADV'), ('since', 'ADP'), ('the', 'DET'), ('contract', 'NOUN'), (\"'s\", 'PRT'), ('launch', 'NOUN'), ('in', 'ADP'), ('1984', 'NUM'), ('.', '.')], [('Silver', 'NOUN'), ('is', 'VERB'), ('also', 'ADV'), ('under', 'ADP'), ('pressure', 'NOUN'), ('of', 'ADP'), ('``', '.'), ('extremely', 'ADV'), ('high', 'ADJ'), (\"''\", '.'), ('inventories', 'NOUN'), ('in', 'ADP'), ('warehouses', 'NOUN'), ('of', 'ADP'), ('the', 'DET'), ('Commodity', 'NOUN'), ('Exchange', 'NOUN'), (',', '.'), ('he', 'PRON'), ('said', 'VERB'), ('0', 'X'), ('*T*-1', 'X'), ('.', '.')], [('The', 'DET'), ('stocks', 'NOUN'), ('of', 'ADP'), ('banking', 'VERB'), ('concerns', 'NOUN'), ('based', 'VERB'), ('*', 'X'), ('in', 'ADP'), ('Massachusetts', 'NOUN'), ('were', 'VERB'), (\"n't\", 'ADV'), ('helped', 'VERB'), ('*-1', 'X'), ('much', 'ADV'), ('by', 'ADP'), ('the', 'DET'), ('announcement', 'NOUN'), (',', '.'), ('traders', 'NOUN'), ('said', 'VERB'), ('0', 'X'), ('*T*-2', 'X'), (',', '.'), ('because', 'ADP'), ('many', 'ADJ'), ('of', 'ADP'), ('those', 'DET'), ('concerns', 'NOUN'), ('have', 'VERB'), ('financial', 'ADJ'), ('problems', 'NOUN'), ('tied', 'VERB'), ('*', 'X'), ('to', 'PRT'), ('their', 'PRON'), ('real-estate', 'NOUN'), ('loan', 'NOUN'), ('portfolios', 'NOUN'), (',', '.'), ('*', 'X'), ('making', 'VERB'), ('them', 'PRON'), ('unattractive', 'ADJ'), ('takeover', 'NOUN'), ('targets', 'NOUN'), ('.', '.')], [('Moreover', 'ADV'), (',', '.'), ('junk', 'NOUN'), ('professionals', 'NOUN'), ('think', 'VERB'), ('Columbia', 'NOUN'), (\"'s\", 'PRT'), ('huge', 'ADJ'), ('third-quarter', 'NOUN'), ('markdown', 'NOUN'), ('of', 'ADP'), ('its', 'PRON'), ('junk', 'NOUN'), ('portfolio', 'NOUN'), ('to', 'PRT'), ('$', '.'), ('4.4', 'NUM'), ('billion', 'NUM'), ('*U*', 'X'), ('was', 'VERB'), (\"n't\", 'ADV'), ('enough', 'ADV'), (',', '.'), ('*', 'X'), ('meaning', 'VERB'), ('0', 'X'), ('another', 'DET'), ('markdown', 'NOUN'), ('could', 'VERB'), ('be', 'VERB'), ('coming', 'VERB'), ('.', '.')], [('``', '.'), ('They', 'PRON'), ('view', 'VERB'), ('this', 'DET'), ('as', 'ADP'), ('a', 'DET'), ('growth', 'NOUN'), ('area', 'NOUN'), ('so', 'ADP'), ('they', 'PRON'), ('went', 'VERB'), ('about', 'ADP'), ('it', 'PRON'), ('with', 'ADP'), ('a', 'DET'), ('systematic', 'ADJ'), ('approach', 'NOUN'), (',', '.'), (\"''\", '.'), ('says', 'VERB'), ('*T*-1', 'X'), ('Richard', 'NOUN'), ('Olsen', 'NOUN'), (',', '.'), ('a', 'DET'), ('Candela', 'NOUN'), ('vice', 'NOUN'), ('president', 'NOUN'), ('.', '.')], [('Mr.', 'NOUN'), ('Nemeth', 'NOUN'), ('said', 'VERB'), ('in', 'ADP'), ('parliament', 'NOUN'), ('that', 'ADP'), ('Czechoslovakia', 'NOUN'), ('and', 'CONJ'), ('Hungary', 'NOUN'), ('would', 'VERB'), ('suffer', 'VERB'), ('environmental', 'ADJ'), ('damage', 'NOUN'), ('if', 'ADP'), ('the', 'DET'), ('twin', 'NOUN'), ('dams', 'NOUN'), ('were', 'VERB'), ('built', 'VERB'), ('*-67', 'X'), ('as', 'ADP'), ('*', 'X'), ('planned', 'VERB'), ('*-2', 'X'), ('.', '.')], [('After', 'ADP'), ('troubled', 'ADJ'), ('Heritage', 'NOUN'), ('Media', 'NOUN'), ('proposed', 'VERB'), ('*-1', 'X'), ('acquiring', 'VERB'), ('POP', 'NOUN'), ('Radio', 'NOUN'), ('in', 'ADP'), ('a', 'DET'), ('stock', 'NOUN'), ('swap', 'NOUN'), (',', '.'), ('POP', 'NOUN'), ('Radio', 'NOUN'), (\"'s\", 'PRT'), ('shares', 'NOUN'), ('tumbled', 'VERB'), ('4', 'NUM'), ('to', 'PRT'), ('14', 'NUM'), ('3\\\\/4', 'NUM'), ('.', '.')], [('After', 'ADP'), ('these', 'DET'), ('payments', 'NOUN'), (',', '.'), ('about', 'ADP'), ('$', '.'), ('225,000', 'NUM'), ('*U*', 'X'), ('will', 'VERB'), ('be', 'VERB'), ('available', 'ADJ'), ('for', 'ADP'), ('the', 'DET'), ('20', 'NUM'), ('million', 'NUM'), ('common', 'ADJ'), ('shares', 'NOUN'), ('outstanding', 'ADJ'), ('.', '.')], [('Mr.', 'NOUN'), ('Trudeau', 'NOUN'), (',', '.'), ('a', 'DET'), ('Writers', 'NOUN'), ('Guild', 'NOUN'), ('member', 'NOUN'), (',', '.'), ('also', 'ADV'), ('was', 'VERB'), ('employed', 'VERB'), ('*-1', 'X'), ('as', 'ADP'), ('a', 'DET'), ('writer', 'NOUN'), ('for', 'ADP'), ('Darkhorse', 'NOUN'), (',', '.'), ('which', 'DET'), ('*T*-134', 'X'), ('was', 'VERB'), ('covered', 'VERB'), ('*-2', 'X'), ('by', 'ADP'), ('a', 'DET'), ('guild', 'NOUN'), ('collective-bargaining', 'ADJ'), ('agreement', 'NOUN'), ('.', '.')], [('*-1', 'X'), ('To', 'PRT'), ('keep', 'VERB'), ('program-trading', 'ADJ'), ('units', 'NOUN'), ('profitable', 'ADJ'), ('in', 'ADP'), ('the', 'DET'), ('eyes', 'NOUN'), ('of', 'ADP'), ('senior', 'ADJ'), ('brokerage', 'NOUN'), ('executives', 'NOUN'), (',', '.'), ('traders', 'NOUN'), ('must', 'VERB'), ('seize', 'VERB'), ('every', 'DET'), ('opportunity', 'NOUN'), ('0', 'X'), ('their', 'PRON'), ('computers', 'NOUN'), ('find', 'VERB'), ('*T*-2', 'X'), ('.', '.')], [('And', 'CONJ'), ('it', 'PRON'), ('*EXP*-2', 'X'), ('is', 'VERB'), (\"n't\", 'ADV'), ('clear', 'ADJ'), ('that', 'ADP'), ('the', 'DET'), ('Soviet', 'NOUN'), ('Union', 'NOUN'), ('will', 'VERB'), ('stay', 'VERB'), ('on', 'ADP'), ('its', 'PRON'), ('record', 'NOUN'), ('buying', 'VERB'), ('pace', 'NOUN'), ('.', '.')], [('The', 'DET'), ('excision', 'NOUN'), ('of', 'ADP'), ('unconstitutional', 'ADJ'), ('conditions', 'NOUN'), ('in', 'ADP'), ('an', 'DET'), ('appropriations', 'NOUN'), ('bill', 'NOUN'), ('would', 'VERB'), ('be', 'VERB'), ('a', 'DET'), ('power', 'NOUN'), ('of', 'ADP'), ('far', 'ADV'), ('more', 'ADV'), ('limited', 'VERB'), ('applicability', 'NOUN'), ('.', '.')], [('Separately', 'ADV'), (',', '.'), ('Reuter', 'NOUN'), ('reported', 'VERB'), ('that', 'ADP'), ('the', 'DET'), ('Papua-New', 'NOUN'), ('Guinea', 'NOUN'), ('government', 'NOUN'), ('urged', 'VERB'), ('its', 'PRON'), ('Parliament', 'NOUN'), ('*-1', 'X'), ('to', 'PRT'), ('extend', 'VERB'), ('a', 'DET'), ('state', 'NOUN'), ('of', 'ADP'), ('emergency', 'NOUN'), ('in', 'ADP'), ('copper-rich', 'ADJ'), ('Bougainville', 'NOUN'), ('Island', 'NOUN'), ('for', 'ADP'), ('two', 'NUM'), ('months', 'NOUN'), ('.', '.')], [('The', 'DET'), ('statistics', 'NOUN'), ('imply', 'VERB'), ('that', 'ADP'), ('three-quarters', 'NOUN'), ('of', 'ADP'), ('blacks', 'NOUN'), ('approve', 'VERB'), ('of', 'ADP'), ('Mr.', 'NOUN'), ('Bush', 'NOUN'), (\"'s\", 'PRT'), ('job', 'NOUN'), ('performance', 'NOUN'), ('and', 'CONJ'), ('85', 'NUM'), ('%', 'NOUN'), ('of', 'ADP'), ('blacks', 'NOUN'), ('approve', 'VERB'), ('of', 'ADP'), ('Mrs.', 'NOUN'), ('Bush', 'NOUN'), ('.', '.')], [('*', 'X'), ('Do', 'VERB'), (\"n't\", 'ADV'), ('wait', 'VERB'), ('--', '.'), ('a', 'DET'), ('savings', 'NOUN'), ('institution', 'NOUN'), ('needs', 'VERB'), ('your', 'PRON'), ('help', 'NOUN'), ('now', 'ADV'), ('!', '.')], [('The', 'DET'), ('demise', 'NOUN'), ('of', 'ADP'), ('the', 'DET'), ('238,000-circulation', 'ADJ'), ('Herald', 'NOUN'), (',', '.'), ('once', 'ADV'), ('the', 'DET'), ('nation', 'NOUN'), (\"'s\", 'PRT'), ('largest', 'ADJ'), ('afternoon', 'NOUN'), ('newspaper', 'NOUN'), ('with', 'ADP'), ('circulation', 'NOUN'), ('exceeding', 'VERB'), ('700,000', 'NUM'), (',', '.'), ('turns', 'VERB'), ('the', 'DET'), ('country', 'NOUN'), (\"'s\", 'PRT'), ('second-largest', 'ADJ'), ('city', 'NOUN'), ('into', 'ADP'), ('a', 'DET'), ('one-newspaper', 'ADJ'), ('town', 'NOUN'), (',', '.'), ('at', 'ADP'), ('least', 'ADJ'), ('in', 'ADP'), ('some', 'DET'), ('senses', 'NOUN'), ('.', '.')], [('``', '.'), ('It', 'PRON'), (\"'s\", 'VERB'), ('not', 'ADV'), ('just', 'ADV'), ('a', 'DET'), ('simple', 'ADJ'), ('investment', 'NOUN'), ('in', 'ADP'), ('a', 'DET'), ('small', 'ADJ'), ('company', 'NOUN'), (',', '.'), (\"''\", '.'), ('Mr.', 'NOUN'), ('Wakui', 'NOUN'), ('says', 'VERB'), ('*T*-1', 'X'), ('.', '.')], [('Here', 'ADV'), ('are', 'VERB'), ('*T*-1', 'X'), ('the', 'DET'), ('Commerce', 'NOUN'), ('Department', 'NOUN'), (\"'s\", 'PRT'), ('latest', 'ADJ'), ('figures', 'NOUN'), ('for', 'ADP'), ('manufacturers', 'NOUN'), ('in', 'ADP'), ('billions', 'NOUN'), ('of', 'ADP'), ('dollars', 'NOUN'), (',', '.'), ('seasonally', 'ADV'), ('adjusted', 'VERB'), ('.', '.')], [('Columbia', 'NOUN'), (',', '.'), ('a', 'DET'), ('longtime', 'NOUN'), ('Drexel', 'NOUN'), ('client', 'NOUN'), (',', '.'), ('wo', 'VERB'), (\"n't\", 'ADV'), ('provide', 'VERB'), ('current', 'ADJ'), ('data', 'NOUN'), ('on', 'ADP'), ('its', 'PRON'), ('junk', 'NOUN'), ('.', '.')], [('An', 'DET'), ('index', 'NOUN'), ('of', 'ADP'), ('economic', 'ADJ'), ('activity', 'NOUN'), ('drawn', 'VERB'), ('*', 'X'), ('from', 'ADP'), ('the', 'DET'), ('survey', 'NOUN'), ('stood', 'VERB'), ('last', 'ADJ'), ('month', 'NOUN'), ('at', 'ADP'), ('47.6', 'NUM'), ('%', 'NOUN'), (';', '.'), ('a', 'DET'), ('reading', 'NOUN'), ('above', 'ADP'), ('50', 'NUM'), ('%', 'NOUN'), ('would', 'VERB'), ('have', 'VERB'), ('indicated', 'VERB'), ('that', 'ADP'), ('the', 'DET'), ('manufacturing', 'VERB'), ('sector', 'NOUN'), ('was', 'VERB'), ('improving', 'VERB'), ('.', '.')], [('Maxwell', 'NOUN'), ('R.D.', 'NOUN'), ('Vos', 'NOUN'), ('Brooklyn', 'NOUN'), (',', '.'), ('N.Y', 'NOUN'), ('.', '.')], [('Life', 'NOUN'), ('of', 'ADP'), ('Georgia', 'NOUN'), ('is', 'VERB'), ('part', 'NOUN'), ('of', 'ADP'), ('the', 'DET'), ('Nationale', 'NOUN'), ('Nederlanden', 'NOUN'), ('Group', 'NOUN'), (',', '.'), ('based', 'VERB'), ('*', 'X'), ('in', 'ADP'), ('the', 'DET'), ('Netherlands', 'NOUN'), ('.', '.')], [('Heritage', 'NOUN'), ('owns', 'VERB'), ('and', 'CONJ'), ('operates', 'VERB'), ('television', 'NOUN'), ('and', 'CONJ'), ('radio', 'NOUN'), ('stations', 'NOUN'), ('and', 'CONJ'), ('in-store', 'ADJ'), ('advertising', 'NOUN'), ('and', 'CONJ'), ('promotion', 'NOUN'), ('programs', 'NOUN'), ('.', '.')], [('``', '.'), ('After', 'ADP'), ('two', 'NUM'), ('months', 'NOUN'), ('of', 'ADP'), ('talks', 'NOUN'), (',', '.'), ('our', 'PRON'), ('rating', 'NOUN'), ('was', 'VERB'), ('maintained', 'VERB'), ('*-1', 'X'), ('.', '.'), (\"''\", '.')], [('The', 'DET'), ('Soviet', 'NOUN'), ('Union', 'NOUN'), ('bought', 'VERB'), ('roughly', 'ADV'), ('310', 'NUM'), ('million', 'NUM'), ('bushels', 'NOUN'), ('of', 'ADP'), ('U.S.', 'NOUN'), ('corn', 'NOUN'), ('*ICH*-2', 'X'), ('in', 'ADP'), ('October', 'NOUN'), (',', '.'), ('which', 'DET'), ('*T*-1', 'X'), ('is', 'VERB'), ('the', 'DET'), ('most', 'ADV'), ('ever', 'ADV'), ('sold', 'VERB'), ('*', 'X'), ('to', 'PRT'), ('the', 'DET'), ('Soviet', 'NOUN'), ('Union', 'NOUN'), ('in', 'ADP'), ('one', 'NUM'), ('month', 'NOUN'), ('from', 'ADP'), ('the', 'DET'), ('U.S.', 'NOUN'), ('.', '.')], [('At', 'ADP'), ('Cray', 'NOUN'), ('Computer', 'NOUN'), (',', '.'), ('he', 'PRON'), ('will', 'VERB'), ('be', 'VERB'), ('paid', 'VERB'), ('*-26', 'X'), ('$', '.'), ('240,000', 'NUM'), ('*U*', 'X'), ('.', '.')], [('The', 'DET'), ('Herald', 'NOUN'), (\"'s\", 'PRT'), ('sports', 'NOUN'), ('coverage', 'NOUN'), ('and', 'CONJ'), ('arts', 'NOUN'), ('criticism', 'NOUN'), ('were', 'VERB'), ('also', 'ADV'), ('highly', 'ADV'), ('regarded', 'VERB'), ('.', '.')], [('``', '.'), ('Both', 'DET'), ('sides', 'NOUN'), ('are', 'VERB'), ('taking', 'VERB'), ('action', 'NOUN'), ('.', '.'), (\"''\", '.')], [('In', 'ADP'), ('1966', 'NUM'), (',', '.'), ('on', 'ADP'), ('route', 'NOUN'), ('to', 'PRT'), ('a', 'DET'), ('re-election', 'NOUN'), ('rout', 'NOUN'), ('of', 'ADP'), ('Democrat', 'NOUN'), ('Frank', 'NOUN'), (\"O'Connor\", 'NOUN'), (',', '.'), ('GOP', 'NOUN'), ('Gov.', 'NOUN'), ('Nelson', 'NOUN'), ('Rockefeller', 'NOUN'), ('of', 'ADP'), ('New', 'NOUN'), ('York', 'NOUN'), ('appeared', 'VERB'), ('in', 'ADP'), ('person', 'NOUN'), ('*-1', 'X'), ('saying', 'VERB'), (',', '.'), ('``', '.'), ('If', 'ADP'), ('you', 'PRON'), ('want', 'VERB'), ('*-2', 'X'), ('to', 'PRT'), ('keep', 'VERB'), ('the', 'DET'), ('crime', 'NOUN'), ('rates', 'NOUN'), ('high', 'ADJ'), (',', '.'), (\"O'Connor\", 'NOUN'), ('is', 'VERB'), ('your', 'PRON'), ('man', 'NOUN'), ('.', '.'), (\"''\", '.')]]\n"
     ]
    }
   ],
   "source": [
    "# Splitting into train and test\n",
    "random.seed(28)\n",
    "train_set, test_set = train_test_split(nltk_data,test_size=0.05)\n",
    "\n",
    "print(len(train_set))\n",
    "print(len(test_set))\n",
    "print(train_set[:40])"
   ]
  },
  {
   "cell_type": "code",
   "execution_count": 64,
   "metadata": {},
   "outputs": [
    {
     "data": {
      "text/plain": [
       "95367"
      ]
     },
     "execution_count": 64,
     "metadata": {},
     "output_type": "execute_result"
    }
   ],
   "source": [
    "# Getting list of tagged words\n",
    "train_tagged_words = [tup for sent in train_set for tup in sent]\n",
    "len(train_tagged_words)"
   ]
  },
  {
   "cell_type": "code",
   "execution_count": 65,
   "metadata": {},
   "outputs": [
    {
     "data": {
      "text/plain": [
       "['The', '7', '3\\\\/8', '%', 'term', 'bonds', 'due', '2009', 'are', 'priced']"
      ]
     },
     "execution_count": 65,
     "metadata": {},
     "output_type": "execute_result"
    }
   ],
   "source": [
    "# tokens \n",
    "tokens = [pair[0] for pair in train_tagged_words]\n",
    "tokens[:10]"
   ]
  },
  {
   "cell_type": "code",
   "execution_count": 66,
   "metadata": {},
   "outputs": [
    {
     "name": "stdout",
     "output_type": "stream",
     "text": [
      "12081\n"
     ]
    }
   ],
   "source": [
    "# vocabulary\n",
    "V = set(tokens)\n",
    "print(len(V))"
   ]
  },
  {
   "cell_type": "code",
   "execution_count": 67,
   "metadata": {},
   "outputs": [
    {
     "data": {
      "text/plain": [
       "12"
      ]
     },
     "execution_count": 67,
     "metadata": {},
     "output_type": "execute_result"
    }
   ],
   "source": [
    "# number of tags\n",
    "T = set([pair[1] for pair in train_tagged_words])\n",
    "len(T)"
   ]
  },
  {
   "cell_type": "code",
   "execution_count": 68,
   "metadata": {},
   "outputs": [
    {
     "name": "stdout",
     "output_type": "stream",
     "text": [
      "{'DET', 'PRT', 'NUM', 'CONJ', 'NOUN', 'VERB', 'ADJ', '.', 'ADP', 'PRON', 'X', 'ADV'}\n"
     ]
    }
   ],
   "source": [
    "print(T)"
   ]
  },
  {
   "cell_type": "markdown",
   "metadata": {},
   "source": [
    "## 2. POS Tagging Algorithm - HMM\n",
    "\n",
    "We'll use the HMM algorithm to tag the words. Given a sequence of words to be tagged, the task is to assign the most probable tag to the word. \n",
    "\n",
    "In other words, to every word w, assign the tag t that maximises the likelihood P(t/w). Since P(t/w) = P(w/t). P(t) / P(w), after ignoring P(w), we have to compute P(w/t) and P(t).\n",
    "\n",
    "\n",
    "P(w/t) is basically the probability that given a tag (say NN), what is the probability of it being w (say 'building'). This can be computed by computing the fraction of all NNs which are equal to w, i.e. \n",
    "\n",
    "P(w/t) = count(w, t) / count(t). \n",
    "\n",
    "\n",
    "The term P(t) is the probability of tag t, and in a tagging task, we assume that a tag will depend only on the previous tag. In other words, the probability of a tag being NN will depend only on the previous tag t(n-1). So for e.g. if t(n-1) is a JJ, then t(n) is likely to be an NN since adjectives often precede a noun (blue coat, tall building etc.).\n",
    "\n",
    "\n",
    "Given the penn treebank tagged dataset, we can compute the two terms P(w/t) and P(t) and store them in two large matrices. The matrix of P(w/t) will be sparse, since each word will not be seen with most tags ever, and those terms will thus be zero. \n"
   ]
  },
  {
   "cell_type": "markdown",
   "metadata": {},
   "source": [
    "### Emission Probabilities"
   ]
  },
  {
   "cell_type": "code",
   "execution_count": 69,
   "metadata": {},
   "outputs": [],
   "source": [
    "# computing P(w/t) and storing in T x V matrix\n",
    "t = len(T)\n",
    "v = len(V)\n",
    "w_given_t = np.zeros((t, v))"
   ]
  },
  {
   "cell_type": "code",
   "execution_count": 70,
   "metadata": {},
   "outputs": [],
   "source": [
    "# compute word given tag: Emission Probability\n",
    "def word_given_tag(word, tag, train_bag = train_tagged_words):\n",
    "    tag_list = [pair for pair in train_bag if pair[1]==tag]\n",
    "    count_tag = len(tag_list)\n",
    "    w_given_tag_list = [pair[0] for pair in tag_list if pair[0]==word]\n",
    "    count_w_given_tag = len(w_given_tag_list)\n",
    "    \n",
    "    return (count_w_given_tag, count_tag)"
   ]
  },
  {
   "cell_type": "markdown",
   "metadata": {},
   "source": [
    "### Transition Probabilities"
   ]
  },
  {
   "cell_type": "code",
   "execution_count": 71,
   "metadata": {},
   "outputs": [],
   "source": [
    "# compute tag given tag: tag2(t2) given tag1 (t1), i.e. Transition Probability\n",
    "\n",
    "def t2_given_t1(t2, t1, train_bag = train_tagged_words):\n",
    "    tags = [pair[1] for pair in train_bag]\n",
    "    count_t1 = len([t for t in tags if t==t1])\n",
    "    count_t2_t1 = 0\n",
    "    for index in range(len(tags)-1):\n",
    "        if tags[index]==t1 and tags[index+1] == t2:\n",
    "            count_t2_t1 += 1\n",
    "    return (count_t2_t1, count_t1)"
   ]
  },
  {
   "cell_type": "code",
   "execution_count": 72,
   "metadata": {},
   "outputs": [],
   "source": [
    "# creating t x t transition matrix of tags\n",
    "# each column is t2, each row is t1\n",
    "# thus M(i, j) represents P(tj given ti)\n",
    "\n",
    "tags_matrix = np.zeros((len(T), len(T)), dtype='float32')\n",
    "for i, t1 in enumerate(list(T)):\n",
    "    for j, t2 in enumerate(list(T)): \n",
    "        tags_matrix[i, j] = t2_given_t1(t2, t1)[0]/t2_given_t1(t2, t1)[1]"
   ]
  },
  {
   "cell_type": "code",
   "execution_count": 73,
   "metadata": {},
   "outputs": [
    {
     "data": {
      "text/plain": [
       "array([[5.58320200e-03, 2.42747905e-04, 2.29396764e-02, 4.85495810e-04,\n",
       "        6.39397979e-01, 4.04175259e-02, 2.02573121e-01, 1.79633442e-02,\n",
       "        8.98167212e-03, 3.27709666e-03, 4.53938581e-02, 1.27442647e-02],\n",
       "       [1.01123594e-01, 1.98281556e-03, 5.55188358e-02, 2.31328490e-03,\n",
       "        2.43225381e-01, 4.01189685e-01, 8.85657668e-02, 4.39524129e-02,\n",
       "        2.04890948e-02, 1.85062792e-02, 1.38797089e-02, 9.25313961e-03],\n",
       "       [3.27088917e-03, 2.46803444e-02, 1.85251266e-01, 1.39756165e-02,\n",
       "        3.52958679e-01, 1.90306269e-02, 3.30062434e-02, 1.18644066e-01,\n",
       "        3.53850722e-02, 1.48676778e-03, 2.09336907e-01, 2.97353556e-03],\n",
       "       [1.18194506e-01, 4.65332717e-03, 4.14146110e-02, 4.65332705e-04,\n",
       "        3.47603530e-01, 1.56351790e-01, 1.18194506e-01, 3.58306207e-02,\n",
       "        5.30479290e-02, 6.04932532e-02, 8.37598927e-03, 5.53745925e-02],\n",
       "       [1.35070831e-02, 4.37058471e-02, 9.44397692e-03, 4.23514768e-02,\n",
       "        2.64431357e-01, 1.47077128e-01, 1.22991325e-02, 2.40967825e-01,\n",
       "        1.75958127e-01, 4.83180210e-03, 2.84417439e-02, 1.69845168e-02],\n",
       "       [1.33659527e-01, 3.07548922e-02, 2.27555148e-02, 5.04815159e-03,\n",
       "        1.10826343e-01, 1.69151917e-01, 6.50046617e-02, 3.48710790e-02,\n",
       "        9.17210281e-02, 3.53370607e-02, 2.18157813e-01, 8.27120245e-02],\n",
       "       [4.97100269e-03, 1.12676052e-02, 2.07125098e-02, 1.72328092e-02,\n",
       "        6.97100222e-01, 1.19304061e-02, 6.64457306e-02, 6.46230355e-02,\n",
       "        7.92046413e-02, 6.62800332e-04, 2.12096106e-02, 4.63960227e-03],\n",
       "       [1.71562016e-01, 2.33539916e-03, 8.03916305e-02, 5.90137430e-02,\n",
       "        2.23749220e-01, 8.88349935e-02, 4.34743538e-02, 9.44938436e-02,\n",
       "        9.09907445e-02, 6.63792342e-02, 2.70367377e-02, 5.16482517e-02],\n",
       "       [3.24118733e-01, 1.50005356e-03, 6.31093979e-02, 8.57173465e-04,\n",
       "        3.21011454e-01, 8.25029425e-03, 1.05860926e-01, 3.92156877e-02,\n",
       "        1.73577629e-02, 7.06096664e-02, 3.45012322e-02, 1.36076286e-02],\n",
       "       [9.54198465e-03, 1.25954198e-02, 7.63358781e-03, 5.34351123e-03,\n",
       "        2.09160298e-01, 4.84732836e-01, 7.21374080e-02, 4.12213728e-02,\n",
       "        2.32824422e-02, 8.01526755e-03, 9.19847339e-02, 3.43511440e-02],\n",
       "       [5.38768992e-02, 1.83693051e-01, 2.87769781e-03, 1.02318143e-02,\n",
       "        6.31494820e-02, 2.04316542e-01, 1.67865716e-02, 1.63229421e-01,\n",
       "        1.45323738e-01, 5.54756187e-02, 7.48201460e-02, 2.62190253e-02],\n",
       "       [6.75720423e-02, 1.49055980e-02, 3.17986086e-02, 6.95594586e-03,\n",
       "        3.08049023e-02, 3.46803576e-01, 1.30175561e-01, 1.34812847e-01,\n",
       "        1.16926134e-01, 1.49055980e-02, 2.35177204e-02, 8.08214620e-02]],\n",
       "      dtype=float32)"
      ]
     },
     "execution_count": 73,
     "metadata": {},
     "output_type": "execute_result"
    }
   ],
   "source": [
    "tags_matrix"
   ]
  },
  {
   "cell_type": "code",
   "execution_count": 74,
   "metadata": {},
   "outputs": [],
   "source": [
    "# convert the matrix to a df for better readability\n",
    "tags_df = pd.DataFrame(tags_matrix, columns = list(T), index=list(T))"
   ]
  },
  {
   "cell_type": "code",
   "execution_count": 75,
   "metadata": {},
   "outputs": [
    {
     "data": {
      "text/html": [
       "<div>\n",
       "<style scoped>\n",
       "    .dataframe tbody tr th:only-of-type {\n",
       "        vertical-align: middle;\n",
       "    }\n",
       "\n",
       "    .dataframe tbody tr th {\n",
       "        vertical-align: top;\n",
       "    }\n",
       "\n",
       "    .dataframe thead th {\n",
       "        text-align: right;\n",
       "    }\n",
       "</style>\n",
       "<table border=\"1\" class=\"dataframe\">\n",
       "  <thead>\n",
       "    <tr style=\"text-align: right;\">\n",
       "      <th></th>\n",
       "      <th>DET</th>\n",
       "      <th>PRT</th>\n",
       "      <th>NUM</th>\n",
       "      <th>CONJ</th>\n",
       "      <th>NOUN</th>\n",
       "      <th>VERB</th>\n",
       "      <th>ADJ</th>\n",
       "      <th>.</th>\n",
       "      <th>ADP</th>\n",
       "      <th>PRON</th>\n",
       "      <th>X</th>\n",
       "      <th>ADV</th>\n",
       "    </tr>\n",
       "  </thead>\n",
       "  <tbody>\n",
       "    <tr>\n",
       "      <th>DET</th>\n",
       "      <td>0.005583</td>\n",
       "      <td>0.000243</td>\n",
       "      <td>0.022940</td>\n",
       "      <td>0.000485</td>\n",
       "      <td>0.639398</td>\n",
       "      <td>0.040418</td>\n",
       "      <td>0.202573</td>\n",
       "      <td>0.017963</td>\n",
       "      <td>0.008982</td>\n",
       "      <td>0.003277</td>\n",
       "      <td>0.045394</td>\n",
       "      <td>0.012744</td>\n",
       "    </tr>\n",
       "    <tr>\n",
       "      <th>PRT</th>\n",
       "      <td>0.101124</td>\n",
       "      <td>0.001983</td>\n",
       "      <td>0.055519</td>\n",
       "      <td>0.002313</td>\n",
       "      <td>0.243225</td>\n",
       "      <td>0.401190</td>\n",
       "      <td>0.088566</td>\n",
       "      <td>0.043952</td>\n",
       "      <td>0.020489</td>\n",
       "      <td>0.018506</td>\n",
       "      <td>0.013880</td>\n",
       "      <td>0.009253</td>\n",
       "    </tr>\n",
       "    <tr>\n",
       "      <th>NUM</th>\n",
       "      <td>0.003271</td>\n",
       "      <td>0.024680</td>\n",
       "      <td>0.185251</td>\n",
       "      <td>0.013976</td>\n",
       "      <td>0.352959</td>\n",
       "      <td>0.019031</td>\n",
       "      <td>0.033006</td>\n",
       "      <td>0.118644</td>\n",
       "      <td>0.035385</td>\n",
       "      <td>0.001487</td>\n",
       "      <td>0.209337</td>\n",
       "      <td>0.002974</td>\n",
       "    </tr>\n",
       "    <tr>\n",
       "      <th>CONJ</th>\n",
       "      <td>0.118195</td>\n",
       "      <td>0.004653</td>\n",
       "      <td>0.041415</td>\n",
       "      <td>0.000465</td>\n",
       "      <td>0.347604</td>\n",
       "      <td>0.156352</td>\n",
       "      <td>0.118195</td>\n",
       "      <td>0.035831</td>\n",
       "      <td>0.053048</td>\n",
       "      <td>0.060493</td>\n",
       "      <td>0.008376</td>\n",
       "      <td>0.055375</td>\n",
       "    </tr>\n",
       "    <tr>\n",
       "      <th>NOUN</th>\n",
       "      <td>0.013507</td>\n",
       "      <td>0.043706</td>\n",
       "      <td>0.009444</td>\n",
       "      <td>0.042351</td>\n",
       "      <td>0.264431</td>\n",
       "      <td>0.147077</td>\n",
       "      <td>0.012299</td>\n",
       "      <td>0.240968</td>\n",
       "      <td>0.175958</td>\n",
       "      <td>0.004832</td>\n",
       "      <td>0.028442</td>\n",
       "      <td>0.016985</td>\n",
       "    </tr>\n",
       "    <tr>\n",
       "      <th>VERB</th>\n",
       "      <td>0.133660</td>\n",
       "      <td>0.030755</td>\n",
       "      <td>0.022756</td>\n",
       "      <td>0.005048</td>\n",
       "      <td>0.110826</td>\n",
       "      <td>0.169152</td>\n",
       "      <td>0.065005</td>\n",
       "      <td>0.034871</td>\n",
       "      <td>0.091721</td>\n",
       "      <td>0.035337</td>\n",
       "      <td>0.218158</td>\n",
       "      <td>0.082712</td>\n",
       "    </tr>\n",
       "    <tr>\n",
       "      <th>ADJ</th>\n",
       "      <td>0.004971</td>\n",
       "      <td>0.011268</td>\n",
       "      <td>0.020713</td>\n",
       "      <td>0.017233</td>\n",
       "      <td>0.697100</td>\n",
       "      <td>0.011930</td>\n",
       "      <td>0.066446</td>\n",
       "      <td>0.064623</td>\n",
       "      <td>0.079205</td>\n",
       "      <td>0.000663</td>\n",
       "      <td>0.021210</td>\n",
       "      <td>0.004640</td>\n",
       "    </tr>\n",
       "    <tr>\n",
       "      <th>.</th>\n",
       "      <td>0.171562</td>\n",
       "      <td>0.002335</td>\n",
       "      <td>0.080392</td>\n",
       "      <td>0.059014</td>\n",
       "      <td>0.223749</td>\n",
       "      <td>0.088835</td>\n",
       "      <td>0.043474</td>\n",
       "      <td>0.094494</td>\n",
       "      <td>0.090991</td>\n",
       "      <td>0.066379</td>\n",
       "      <td>0.027037</td>\n",
       "      <td>0.051648</td>\n",
       "    </tr>\n",
       "    <tr>\n",
       "      <th>ADP</th>\n",
       "      <td>0.324119</td>\n",
       "      <td>0.001500</td>\n",
       "      <td>0.063109</td>\n",
       "      <td>0.000857</td>\n",
       "      <td>0.321011</td>\n",
       "      <td>0.008250</td>\n",
       "      <td>0.105861</td>\n",
       "      <td>0.039216</td>\n",
       "      <td>0.017358</td>\n",
       "      <td>0.070610</td>\n",
       "      <td>0.034501</td>\n",
       "      <td>0.013608</td>\n",
       "    </tr>\n",
       "    <tr>\n",
       "      <th>PRON</th>\n",
       "      <td>0.009542</td>\n",
       "      <td>0.012595</td>\n",
       "      <td>0.007634</td>\n",
       "      <td>0.005344</td>\n",
       "      <td>0.209160</td>\n",
       "      <td>0.484733</td>\n",
       "      <td>0.072137</td>\n",
       "      <td>0.041221</td>\n",
       "      <td>0.023282</td>\n",
       "      <td>0.008015</td>\n",
       "      <td>0.091985</td>\n",
       "      <td>0.034351</td>\n",
       "    </tr>\n",
       "    <tr>\n",
       "      <th>X</th>\n",
       "      <td>0.053877</td>\n",
       "      <td>0.183693</td>\n",
       "      <td>0.002878</td>\n",
       "      <td>0.010232</td>\n",
       "      <td>0.063149</td>\n",
       "      <td>0.204317</td>\n",
       "      <td>0.016787</td>\n",
       "      <td>0.163229</td>\n",
       "      <td>0.145324</td>\n",
       "      <td>0.055476</td>\n",
       "      <td>0.074820</td>\n",
       "      <td>0.026219</td>\n",
       "    </tr>\n",
       "    <tr>\n",
       "      <th>ADV</th>\n",
       "      <td>0.067572</td>\n",
       "      <td>0.014906</td>\n",
       "      <td>0.031799</td>\n",
       "      <td>0.006956</td>\n",
       "      <td>0.030805</td>\n",
       "      <td>0.346804</td>\n",
       "      <td>0.130176</td>\n",
       "      <td>0.134813</td>\n",
       "      <td>0.116926</td>\n",
       "      <td>0.014906</td>\n",
       "      <td>0.023518</td>\n",
       "      <td>0.080821</td>\n",
       "    </tr>\n",
       "  </tbody>\n",
       "</table>\n",
       "</div>"
      ],
      "text/plain": [
       "           DET       PRT       NUM      CONJ      NOUN      VERB       ADJ  \\\n",
       "DET   0.005583  0.000243  0.022940  0.000485  0.639398  0.040418  0.202573   \n",
       "PRT   0.101124  0.001983  0.055519  0.002313  0.243225  0.401190  0.088566   \n",
       "NUM   0.003271  0.024680  0.185251  0.013976  0.352959  0.019031  0.033006   \n",
       "CONJ  0.118195  0.004653  0.041415  0.000465  0.347604  0.156352  0.118195   \n",
       "NOUN  0.013507  0.043706  0.009444  0.042351  0.264431  0.147077  0.012299   \n",
       "VERB  0.133660  0.030755  0.022756  0.005048  0.110826  0.169152  0.065005   \n",
       "ADJ   0.004971  0.011268  0.020713  0.017233  0.697100  0.011930  0.066446   \n",
       ".     0.171562  0.002335  0.080392  0.059014  0.223749  0.088835  0.043474   \n",
       "ADP   0.324119  0.001500  0.063109  0.000857  0.321011  0.008250  0.105861   \n",
       "PRON  0.009542  0.012595  0.007634  0.005344  0.209160  0.484733  0.072137   \n",
       "X     0.053877  0.183693  0.002878  0.010232  0.063149  0.204317  0.016787   \n",
       "ADV   0.067572  0.014906  0.031799  0.006956  0.030805  0.346804  0.130176   \n",
       "\n",
       "             .       ADP      PRON         X       ADV  \n",
       "DET   0.017963  0.008982  0.003277  0.045394  0.012744  \n",
       "PRT   0.043952  0.020489  0.018506  0.013880  0.009253  \n",
       "NUM   0.118644  0.035385  0.001487  0.209337  0.002974  \n",
       "CONJ  0.035831  0.053048  0.060493  0.008376  0.055375  \n",
       "NOUN  0.240968  0.175958  0.004832  0.028442  0.016985  \n",
       "VERB  0.034871  0.091721  0.035337  0.218158  0.082712  \n",
       "ADJ   0.064623  0.079205  0.000663  0.021210  0.004640  \n",
       ".     0.094494  0.090991  0.066379  0.027037  0.051648  \n",
       "ADP   0.039216  0.017358  0.070610  0.034501  0.013608  \n",
       "PRON  0.041221  0.023282  0.008015  0.091985  0.034351  \n",
       "X     0.163229  0.145324  0.055476  0.074820  0.026219  \n",
       "ADV   0.134813  0.116926  0.014906  0.023518  0.080821  "
      ]
     },
     "execution_count": 75,
     "metadata": {},
     "output_type": "execute_result"
    }
   ],
   "source": [
    "tags_df"
   ]
  },
  {
   "cell_type": "code",
   "execution_count": 76,
   "metadata": {},
   "outputs": [
    {
     "data": {
      "image/png": "[encoded data removed]",
      "text/plain": [
       "<Figure size 1296x864 with 2 Axes>"
      ]
     },
     "metadata": {
      "needs_background": "light"
     },
     "output_type": "display_data"
    }
   ],
   "source": [
    "# heatmap of tags matrix\n",
    "# T(i, j) means P(tag j given tag i)\n",
    "plt.figure(figsize=(18, 12))\n",
    "sns.heatmap(tags_df)\n",
    "plt.show()\n"
   ]
  },
  {
   "cell_type": "code",
   "execution_count": 77,
   "metadata": {},
   "outputs": [
    {
     "data": {
      "image/png": "[encoded data removed]",
      "text/plain": [
       "<Figure size 1296x864 with 2 Axes>"
      ]
     },
     "metadata": {
      "needs_background": "light"
     },
     "output_type": "display_data"
    }
   ],
   "source": [
    "# frequent tags\n",
    "# filter the df to get P(t2, t1) > 0.5\n",
    "tags_frequent = tags_df[tags_df>0.5]\n",
    "plt.figure(figsize=(18, 12))\n",
    "sns.heatmap(tags_frequent)\n",
    "plt.show()"
   ]
  },
  {
   "cell_type": "markdown",
   "metadata": {},
   "source": [
    "### Build the Vanilla Viterbi based POS tagger"
   ]
  },
  {
   "cell_type": "code",
   "execution_count": 78,
   "metadata": {},
   "outputs": [
    {
     "data": {
      "text/plain": [
       "95367"
      ]
     },
     "execution_count": 78,
     "metadata": {},
     "output_type": "execute_result"
    }
   ],
   "source": [
    "len(train_tagged_words)"
   ]
  },
  {
   "cell_type": "code",
   "execution_count": 79,
   "metadata": {},
   "outputs": [],
   "source": [
    "# Viterbi Heuristic\n",
    "def Viterbi(words, train_bag = train_tagged_words):\n",
    "    state = []\n",
    "    T = list(set([pair[1] for pair in train_bag]))\n",
    "    \n",
    "    for key, word in enumerate(words):\n",
    "        #initialise list of probability column for a given observation\n",
    "        p = [] \n",
    "        for tag in T:\n",
    "            if key == 0:\n",
    "                transition_p = tags_df.loc['.', tag]\n",
    "            else:\n",
    "                transition_p = tags_df.loc[state[-1], tag]\n",
    "                \n",
    "            # compute emission and state probabilities\n",
    "            emission_p = word_given_tag(words[key], tag)[0]/word_given_tag(words[key], tag)[1]\n",
    "            state_probability = emission_p * transition_p    \n",
    "            p.append(state_probability)\n",
    "            \n",
    "        pmax = max(p)\n",
    "        # getting state for which probability is maximum\n",
    "        state_max = T[p.index(pmax)] \n",
    "        state.append(state_max)\n",
    "    return list(zip(words, state))\n",
    "\n"
   ]
  },
  {
   "cell_type": "markdown",
   "metadata": {},
   "source": [
    "## 4. Evaluating on Test Set"
   ]
  },
  {
   "cell_type": "code",
   "execution_count": 80,
   "metadata": {},
   "outputs": [
    {
     "data": {
      "text/plain": [
       "[[('But', 'CONJ'),\n",
       "  ('they', 'PRON'),\n",
       "  ('have', 'VERB'),\n",
       "  ('obtained', 'VERB'),\n",
       "  ('8300', 'ADJ'),\n",
       "  ('forms', 'NOUN'),\n",
       "  ('without', 'ADP'),\n",
       "  ('court', 'NOUN'),\n",
       "  ('permission', 'NOUN'),\n",
       "  ('and', 'CONJ'),\n",
       "  ('used', 'VERB'),\n",
       "  ('the', 'DET'),\n",
       "  ('information', 'NOUN'),\n",
       "  ('*-1', 'X'),\n",
       "  ('to', 'PRT'),\n",
       "  ('help', 'VERB'),\n",
       "  ('develop', 'VERB'),\n",
       "  ('criminal', 'ADJ'),\n",
       "  ('cases', 'NOUN'),\n",
       "  ('.', '.')],\n",
       " [('Timex', 'NOUN'),\n",
       "  ('had', 'VERB'),\n",
       "  ('requested', 'VERB'),\n",
       "  ('duty-free', 'ADJ'),\n",
       "  ('treatment', 'NOUN'),\n",
       "  ('for', 'ADP'),\n",
       "  ('many', 'ADJ'),\n",
       "  ('types', 'NOUN'),\n",
       "  ('of', 'ADP'),\n",
       "  ('watches', 'NOUN'),\n",
       "  (',', '.'),\n",
       "  ('covered', 'VERB'),\n",
       "  ('*', 'X'),\n",
       "  ('by', 'ADP'),\n",
       "  ('58', 'NUM'),\n",
       "  ('different', 'ADJ'),\n",
       "  ('U.S.', 'NOUN'),\n",
       "  ('tariff', 'NOUN'),\n",
       "  ('classifications', 'NOUN'),\n",
       "  ('.', '.')],\n",
       " [('At', 'ADP'),\n",
       "  ('Greenville', 'NOUN'),\n",
       "  ('High', 'NOUN'),\n",
       "  ('School', 'NOUN'),\n",
       "  (',', '.'),\n",
       "  ('meanwhile', 'ADV'),\n",
       "  (',', '.'),\n",
       "  ('some', 'DET'),\n",
       "  ('students', 'NOUN'),\n",
       "  ('--', '.'),\n",
       "  ('especially', 'ADV'),\n",
       "  ('on', 'ADP'),\n",
       "  ('the', 'DET'),\n",
       "  ('cheerleading', 'NOUN'),\n",
       "  ('squad', 'NOUN'),\n",
       "  ('--', '.'),\n",
       "  ('were', 'VERB'),\n",
       "  ('crushed', 'ADJ'),\n",
       "  ('*-1', 'X'),\n",
       "  ('.', '.')],\n",
       " [('Brazil', 'NOUN'),\n",
       "  ('is', 'VERB'),\n",
       "  ('the', 'DET'),\n",
       "  ('third-largest', 'ADJ'),\n",
       "  ('producer', 'NOUN'),\n",
       "  ('*RNR*-1', 'X'),\n",
       "  ('and', 'CONJ'),\n",
       "  ('the', 'DET'),\n",
       "  ('fifth-largest', 'ADJ'),\n",
       "  ('exporter', 'NOUN'),\n",
       "  ('*RNR*-1', 'X'),\n",
       "  ('of', 'ADP'),\n",
       "  ('sugar', 'NOUN'),\n",
       "  ('in', 'ADP'),\n",
       "  ('the', 'DET'),\n",
       "  ('world', 'NOUN'),\n",
       "  ('.', '.')],\n",
       " [('The', 'DET'),\n",
       "  ('parishioners', 'NOUN'),\n",
       "  ('of', 'ADP'),\n",
       "  ('St.', 'NOUN'),\n",
       "  ('Michael', 'NOUN'),\n",
       "  ('and', 'CONJ'),\n",
       "  ('All', 'DET'),\n",
       "  ('Angels', 'NOUN'),\n",
       "  ('stop', 'VERB'),\n",
       "  ('*-1', 'X'),\n",
       "  ('to', 'PRT'),\n",
       "  ('chat', 'VERB'),\n",
       "  ('at', 'ADP'),\n",
       "  ('the', 'DET'),\n",
       "  ('church', 'NOUN'),\n",
       "  ('door', 'NOUN'),\n",
       "  (',', '.'),\n",
       "  ('as', 'ADP'),\n",
       "  ('members', 'NOUN'),\n",
       "  ('here', 'ADV'),\n",
       "  ('always', 'ADV'),\n",
       "  ('have', 'VERB'),\n",
       "  ('*?*', 'X'),\n",
       "  ('.', '.')]]"
      ]
     },
     "execution_count": 80,
     "metadata": {},
     "output_type": "execute_result"
    }
   ],
   "source": [
    "# Running on entire test dataset would take more than 3-4hrs. \n",
    "# Let's test our Viterbi algorithm on a few sample sentences of test dataset\n",
    "\n",
    "random.seed(42)\n",
    "\n",
    "# choose random 5 sents\n",
    "rndom = [random.randint(1,len(test_set)) for x in range(5)]\n",
    "\n",
    "# list of sents\n",
    "test_run = [test_set[i] for i in rndom]\n",
    "\n",
    "# list of tagged words\n",
    "test_run_base = [tup for sent in test_run for tup in sent]\n",
    "\n",
    "# list of untagged words\n",
    "test_tagged_words = [tup[0] for sent in test_run for tup in sent]\n",
    "test_run"
   ]
  },
  {
   "cell_type": "code",
   "execution_count": 81,
   "metadata": {},
   "outputs": [],
   "source": [
    "# tagging the test sentences\n",
    "start = time.time()\n",
    "tagged_seq = Viterbi(test_tagged_words)\n",
    "end = time.time()\n",
    "difference = end-start"
   ]
  },
  {
   "cell_type": "code",
   "execution_count": 82,
   "metadata": {},
   "outputs": [
    {
     "name": "stdout",
     "output_type": "stream",
     "text": [
      "Time taken in seconds:  25.614551305770874\n",
      "[('But', 'CONJ'), ('they', 'PRON'), ('have', 'VERB'), ('obtained', 'VERB'), ('8300', 'NUM'), ('forms', 'NOUN'), ('without', 'ADP'), ('court', 'NOUN'), ('permission', 'NOUN'), ('and', 'CONJ'), ('used', 'VERB'), ('the', 'DET'), ('information', 'NOUN'), ('*-1', 'X'), ('to', 'PRT'), ('help', 'VERB'), ('develop', 'VERB'), ('criminal', 'ADJ'), ('cases', 'NOUN'), ('.', '.'), ('Timex', 'NOUN'), ('had', 'VERB'), ('requested', 'VERB'), ('duty-free', 'ADJ'), ('treatment', 'NOUN'), ('for', 'ADP'), ('many', 'ADJ'), ('types', 'NOUN'), ('of', 'ADP'), ('watches', 'NOUN'), (',', '.'), ('covered', 'VERB'), ('*', 'X'), ('by', 'ADP'), ('58', 'NUM'), ('different', 'ADJ'), ('U.S.', 'NOUN'), ('tariff', 'NOUN'), ('classifications', 'DET'), ('.', '.'), ('At', 'ADP'), ('Greenville', 'NOUN'), ('High', 'NOUN'), ('School', 'NOUN'), (',', '.'), ('meanwhile', 'ADV'), (',', '.'), ('some', 'DET'), ('students', 'NOUN'), ('--', '.'), ('especially', 'ADV'), ('on', 'ADP'), ('the', 'DET'), ('cheerleading', 'DET'), ('squad', 'DET'), ('--', '.'), ('were', 'VERB'), ('crushed', 'DET'), ('*-1', 'X'), ('.', '.'), ('Brazil', 'NOUN'), ('is', 'VERB'), ('the', 'DET'), ('third-largest', 'DET'), ('producer', 'NOUN'), ('*RNR*-1', 'X'), ('and', 'CONJ'), ('the', 'DET'), ('fifth-largest', 'DET'), ('exporter', 'NOUN'), ('*RNR*-1', 'X'), ('of', 'ADP'), ('sugar', 'NOUN'), ('in', 'ADP'), ('the', 'DET'), ('world', 'NOUN'), ('.', '.'), ('The', 'DET'), ('parishioners', 'DET'), ('of', 'ADP'), ('St.', 'NOUN'), ('Michael', 'NOUN'), ('and', 'CONJ'), ('All', 'DET'), ('Angels', 'DET'), ('stop', 'VERB'), ('*-1', 'X'), ('to', 'PRT'), ('chat', 'DET'), ('at', 'ADP'), ('the', 'DET'), ('church', 'NOUN'), ('door', 'NOUN'), (',', '.'), ('as', 'ADP'), ('members', 'NOUN'), ('here', 'ADV'), ('always', 'ADV'), ('have', 'VERB'), ('*?*', 'X'), ('.', '.')]\n"
     ]
    }
   ],
   "source": [
    "print(\"Time taken in seconds: \", difference)\n",
    "print(tagged_seq)\n",
    "#print(test_run_base)"
   ]
  },
  {
   "cell_type": "code",
   "execution_count": 83,
   "metadata": {},
   "outputs": [],
   "source": [
    "# accuracy\n",
    "check = [i for i, j in zip(tagged_seq, test_run_base) if i == j] "
   ]
  },
  {
   "cell_type": "code",
   "execution_count": 84,
   "metadata": {},
   "outputs": [],
   "source": [
    "accuracy = len(check)/len(tagged_seq)\n",
    "vanilla_accuracy=accuracy"
   ]
  },
  {
   "cell_type": "code",
   "execution_count": 85,
   "metadata": {},
   "outputs": [
    {
     "data": {
      "text/plain": [
       "0.900990099009901"
      ]
     },
     "execution_count": 85,
     "metadata": {},
     "output_type": "execute_result"
    }
   ],
   "source": [
    "accuracy"
   ]
  },
  {
   "cell_type": "code",
   "execution_count": 86,
   "metadata": {},
   "outputs": [],
   "source": [
    "incorrect_tagged_cases = [[test_run_base[i-1],j] for i, j in enumerate(zip(tagged_seq, test_run_base)) if j[0]!=j[1]]\n",
    "vanilla_incorrect_tagged_cases = incorrect_tagged_cases"
   ]
  },
  {
   "cell_type": "code",
   "execution_count": 87,
   "metadata": {},
   "outputs": [
    {
     "data": {
      "text/plain": [
       "[[('obtained', 'VERB'), (('8300', 'NUM'), ('8300', 'ADJ'))],\n",
       " [('tariff', 'NOUN'),\n",
       "  (('classifications', 'DET'), ('classifications', 'NOUN'))],\n",
       " [('the', 'DET'), (('cheerleading', 'DET'), ('cheerleading', 'NOUN'))],\n",
       " [('cheerleading', 'NOUN'), (('squad', 'DET'), ('squad', 'NOUN'))],\n",
       " [('were', 'VERB'), (('crushed', 'DET'), ('crushed', 'ADJ'))],\n",
       " [('the', 'DET'), (('third-largest', 'DET'), ('third-largest', 'ADJ'))],\n",
       " [('the', 'DET'), (('fifth-largest', 'DET'), ('fifth-largest', 'ADJ'))],\n",
       " [('The', 'DET'), (('parishioners', 'DET'), ('parishioners', 'NOUN'))],\n",
       " [('All', 'DET'), (('Angels', 'DET'), ('Angels', 'NOUN'))],\n",
       " [('to', 'PRT'), (('chat', 'DET'), ('chat', 'VERB'))]]"
      ]
     },
     "execution_count": 87,
     "metadata": {},
     "output_type": "execute_result"
    }
   ],
   "source": [
    "incorrect_tagged_cases"
   ]
  },
  {
   "cell_type": "code",
   "execution_count": 88,
   "metadata": {},
   "outputs": [
    {
     "name": "stdout",
     "output_type": "stream",
     "text": [
      "['But', 'they', 'have', 'obtained', '8300']\n"
     ]
    }
   ],
   "source": [
    "print(test_tagged_words[:5])"
   ]
  },
  {
   "cell_type": "code",
   "execution_count": 89,
   "metadata": {},
   "outputs": [
    {
     "name": "stdout",
     "output_type": "stream",
     "text": [
      "[('The', 'DET'), ('7', 'NUM'), ('3\\\\/8', 'NUM'), ('%', 'NOUN'), ('term', 'NOUN')]\n"
     ]
    }
   ],
   "source": [
    "print(train_tagged_words[:5])"
   ]
  },
  {
   "cell_type": "code",
   "execution_count": 90,
   "metadata": {},
   "outputs": [],
   "source": [
    "not_present_words=[]\n",
    "for test_word in test_tagged_words:\n",
    "    match_flag=0\n",
    "    for train_word in train_tagged_words:\n",
    "        if test_word==train_word[0]:\n",
    "            match_flag=1\n",
    "            break\n",
    "    if match_flag==0:\n",
    "        not_present_words.append(test_word)"
   ]
  },
  {
   "cell_type": "code",
   "execution_count": 91,
   "metadata": {},
   "outputs": [
    {
     "data": {
      "text/plain": [
       "['classifications',\n",
       " 'cheerleading',\n",
       " 'squad',\n",
       " 'crushed',\n",
       " 'third-largest',\n",
       " 'fifth-largest',\n",
       " 'parishioners',\n",
       " 'Angels',\n",
       " 'chat']"
      ]
     },
     "execution_count": 91,
     "metadata": {},
     "output_type": "execute_result"
    }
   ],
   "source": [
    "not_present_words"
   ]
  },
  {
   "cell_type": "code",
   "execution_count": null,
   "metadata": {},
   "outputs": [],
   "source": []
  },
  {
   "cell_type": "markdown",
   "metadata": {},
   "source": [
    "### Solve the problem of unknown words"
   ]
  },
  {
   "cell_type": "markdown",
   "metadata": {},
   "source": [
    "### Technique 1 : To omit the emmission probability for the one's not present in training corpus"
   ]
  },
  {
   "cell_type": "code",
   "execution_count": 92,
   "metadata": {},
   "outputs": [],
   "source": [
    "# Viterbi Heuristic\n",
    "def Viterbi_1(words, train_bag = train_tagged_words):\n",
    "    state = []\n",
    "    T = list(set([pair[1] for pair in train_bag]))\n",
    "    \n",
    "    for key, word in enumerate(words):\n",
    "        #initialise list of probability column for a given observation\n",
    "        p = [] \n",
    "        for tag in T:\n",
    "            if key == 0:\n",
    "                transition_p = tags_df.loc['.', tag]\n",
    "            else:\n",
    "                transition_p = tags_df.loc[state[-1], tag]\n",
    "                \n",
    "            # compute emission and state probabilities\n",
    "            emission_p = word_given_tag(words[key], tag)[0]/word_given_tag(words[key], tag)[1]\n",
    "            # Checking for not present words\n",
    "            if word not in not_present_words:\n",
    "                state_probability = transition_p * emission_p\n",
    "            else:\n",
    "                state_probability = transition_p    \n",
    "            p.append(state_probability)\n",
    "            \n",
    "        pmax = max(p)\n",
    "        # getting state for which probability is maximum\n",
    "        state_max = T[p.index(pmax)] \n",
    "        state.append(state_max)\n",
    "    return list(zip(words, state))\n",
    "\n"
   ]
  },
  {
   "cell_type": "code",
   "execution_count": 93,
   "metadata": {},
   "outputs": [
    {
     "data": {
      "text/plain": [
       "[[('But', 'CONJ'),\n",
       "  ('they', 'PRON'),\n",
       "  ('have', 'VERB'),\n",
       "  ('obtained', 'VERB'),\n",
       "  ('8300', 'ADJ'),\n",
       "  ('forms', 'NOUN'),\n",
       "  ('without', 'ADP'),\n",
       "  ('court', 'NOUN'),\n",
       "  ('permission', 'NOUN'),\n",
       "  ('and', 'CONJ'),\n",
       "  ('used', 'VERB'),\n",
       "  ('the', 'DET'),\n",
       "  ('information', 'NOUN'),\n",
       "  ('*-1', 'X'),\n",
       "  ('to', 'PRT'),\n",
       "  ('help', 'VERB'),\n",
       "  ('develop', 'VERB'),\n",
       "  ('criminal', 'ADJ'),\n",
       "  ('cases', 'NOUN'),\n",
       "  ('.', '.')],\n",
       " [('Timex', 'NOUN'),\n",
       "  ('had', 'VERB'),\n",
       "  ('requested', 'VERB'),\n",
       "  ('duty-free', 'ADJ'),\n",
       "  ('treatment', 'NOUN'),\n",
       "  ('for', 'ADP'),\n",
       "  ('many', 'ADJ'),\n",
       "  ('types', 'NOUN'),\n",
       "  ('of', 'ADP'),\n",
       "  ('watches', 'NOUN'),\n",
       "  (',', '.'),\n",
       "  ('covered', 'VERB'),\n",
       "  ('*', 'X'),\n",
       "  ('by', 'ADP'),\n",
       "  ('58', 'NUM'),\n",
       "  ('different', 'ADJ'),\n",
       "  ('U.S.', 'NOUN'),\n",
       "  ('tariff', 'NOUN'),\n",
       "  ('classifications', 'NOUN'),\n",
       "  ('.', '.')],\n",
       " [('At', 'ADP'),\n",
       "  ('Greenville', 'NOUN'),\n",
       "  ('High', 'NOUN'),\n",
       "  ('School', 'NOUN'),\n",
       "  (',', '.'),\n",
       "  ('meanwhile', 'ADV'),\n",
       "  (',', '.'),\n",
       "  ('some', 'DET'),\n",
       "  ('students', 'NOUN'),\n",
       "  ('--', '.'),\n",
       "  ('especially', 'ADV'),\n",
       "  ('on', 'ADP'),\n",
       "  ('the', 'DET'),\n",
       "  ('cheerleading', 'NOUN'),\n",
       "  ('squad', 'NOUN'),\n",
       "  ('--', '.'),\n",
       "  ('were', 'VERB'),\n",
       "  ('crushed', 'ADJ'),\n",
       "  ('*-1', 'X'),\n",
       "  ('.', '.')],\n",
       " [('Brazil', 'NOUN'),\n",
       "  ('is', 'VERB'),\n",
       "  ('the', 'DET'),\n",
       "  ('third-largest', 'ADJ'),\n",
       "  ('producer', 'NOUN'),\n",
       "  ('*RNR*-1', 'X'),\n",
       "  ('and', 'CONJ'),\n",
       "  ('the', 'DET'),\n",
       "  ('fifth-largest', 'ADJ'),\n",
       "  ('exporter', 'NOUN'),\n",
       "  ('*RNR*-1', 'X'),\n",
       "  ('of', 'ADP'),\n",
       "  ('sugar', 'NOUN'),\n",
       "  ('in', 'ADP'),\n",
       "  ('the', 'DET'),\n",
       "  ('world', 'NOUN'),\n",
       "  ('.', '.')],\n",
       " [('The', 'DET'),\n",
       "  ('parishioners', 'NOUN'),\n",
       "  ('of', 'ADP'),\n",
       "  ('St.', 'NOUN'),\n",
       "  ('Michael', 'NOUN'),\n",
       "  ('and', 'CONJ'),\n",
       "  ('All', 'DET'),\n",
       "  ('Angels', 'NOUN'),\n",
       "  ('stop', 'VERB'),\n",
       "  ('*-1', 'X'),\n",
       "  ('to', 'PRT'),\n",
       "  ('chat', 'VERB'),\n",
       "  ('at', 'ADP'),\n",
       "  ('the', 'DET'),\n",
       "  ('church', 'NOUN'),\n",
       "  ('door', 'NOUN'),\n",
       "  (',', '.'),\n",
       "  ('as', 'ADP'),\n",
       "  ('members', 'NOUN'),\n",
       "  ('here', 'ADV'),\n",
       "  ('always', 'ADV'),\n",
       "  ('have', 'VERB'),\n",
       "  ('*?*', 'X'),\n",
       "  ('.', '.')]]"
      ]
     },
     "execution_count": 93,
     "metadata": {},
     "output_type": "execute_result"
    }
   ],
   "source": [
    "# Running on entire test dataset would take more than 3-4hrs. \n",
    "# Let's test our Viterbi algorithm on a few sample sentences of test dataset\n",
    "\n",
    "random.seed(42)\n",
    "\n",
    "# choose random 5 sents\n",
    "rndom = [random.randint(1,len(test_set)) for x in range(5)]\n",
    "\n",
    "# list of sents\n",
    "test_run = [test_set[i] for i in rndom]\n",
    "\n",
    "# list of tagged words\n",
    "test_run_base = [tup for sent in test_run for tup in sent]\n",
    "\n",
    "# list of untagged words\n",
    "test_tagged_words = [tup[0] for sent in test_run for tup in sent]\n",
    "test_run"
   ]
  },
  {
   "cell_type": "code",
   "execution_count": 94,
   "metadata": {},
   "outputs": [
    {
     "name": "stdout",
     "output_type": "stream",
     "text": [
      "Time taken in seconds:  26.092119216918945\n",
      "[('But', 'CONJ'), ('they', 'PRON'), ('have', 'VERB'), ('obtained', 'VERB'), ('8300', 'NUM'), ('forms', 'NOUN'), ('without', 'ADP'), ('court', 'NOUN'), ('permission', 'NOUN'), ('and', 'CONJ'), ('used', 'VERB'), ('the', 'DET'), ('information', 'NOUN'), ('*-1', 'X'), ('to', 'PRT'), ('help', 'VERB'), ('develop', 'VERB'), ('criminal', 'ADJ'), ('cases', 'NOUN'), ('.', '.'), ('Timex', 'NOUN'), ('had', 'VERB'), ('requested', 'VERB'), ('duty-free', 'ADJ'), ('treatment', 'NOUN'), ('for', 'ADP'), ('many', 'ADJ'), ('types', 'NOUN'), ('of', 'ADP'), ('watches', 'NOUN'), (',', '.'), ('covered', 'VERB'), ('*', 'X'), ('by', 'ADP'), ('58', 'NUM'), ('different', 'ADJ'), ('U.S.', 'NOUN'), ('tariff', 'NOUN'), ('classifications', 'NOUN'), ('.', '.'), ('At', 'ADP'), ('Greenville', 'NOUN'), ('High', 'NOUN'), ('School', 'NOUN'), (',', '.'), ('meanwhile', 'ADV'), (',', '.'), ('some', 'DET'), ('students', 'NOUN'), ('--', '.'), ('especially', 'ADV'), ('on', 'ADP'), ('the', 'DET'), ('cheerleading', 'NOUN'), ('squad', 'NOUN'), ('--', '.'), ('were', 'VERB'), ('crushed', 'X'), ('*-1', 'X'), ('.', '.'), ('Brazil', 'NOUN'), ('is', 'VERB'), ('the', 'DET'), ('third-largest', 'NOUN'), ('producer', 'NOUN'), ('*RNR*-1', 'X'), ('and', 'CONJ'), ('the', 'DET'), ('fifth-largest', 'NOUN'), ('exporter', 'NOUN'), ('*RNR*-1', 'X'), ('of', 'ADP'), ('sugar', 'NOUN'), ('in', 'ADP'), ('the', 'DET'), ('world', 'NOUN'), ('.', '.'), ('The', 'DET'), ('parishioners', 'NOUN'), ('of', 'ADP'), ('St.', 'NOUN'), ('Michael', 'NOUN'), ('and', 'CONJ'), ('All', 'DET'), ('Angels', 'NOUN'), ('stop', 'VERB'), ('*-1', 'X'), ('to', 'PRT'), ('chat', 'VERB'), ('at', 'ADP'), ('the', 'DET'), ('church', 'NOUN'), ('door', 'NOUN'), (',', '.'), ('as', 'ADP'), ('members', 'NOUN'), ('here', 'ADV'), ('always', 'ADV'), ('have', 'VERB'), ('*?*', 'X'), ('.', '.')]\n"
     ]
    }
   ],
   "source": [
    "# tagging the test sentences\n",
    "start = time.time()\n",
    "tagged_seq = Viterbi_1(test_tagged_words)\n",
    "end = time.time()\n",
    "difference = end-start\n",
    "\n",
    "print(\"Time taken in seconds: \", difference)\n",
    "print(tagged_seq)\n",
    "#print(test_run_base)"
   ]
  },
  {
   "cell_type": "markdown",
   "metadata": {},
   "source": [
    "#### Evaluating tagging accuracy"
   ]
  },
  {
   "cell_type": "code",
   "execution_count": 95,
   "metadata": {},
   "outputs": [
    {
     "name": "stdout",
     "output_type": "stream",
     "text": [
      "0.9603960396039604\n"
     ]
    }
   ],
   "source": [
    "# accuracy\n",
    "check = [i for i, j in zip(tagged_seq, test_run_base) if i == j] \n",
    "accuracy = len(check)/len(tagged_seq)\n",
    "tech1_accuracy = accuracy\n",
    "print(accuracy)"
   ]
  },
  {
   "cell_type": "code",
   "execution_count": 96,
   "metadata": {},
   "outputs": [
    {
     "name": "stdout",
     "output_type": "stream",
     "text": [
      "[[('obtained', 'VERB'), (('8300', 'NUM'), ('8300', 'ADJ'))], [('were', 'VERB'), (('crushed', 'X'), ('crushed', 'ADJ'))], [('the', 'DET'), (('third-largest', 'NOUN'), ('third-largest', 'ADJ'))], [('the', 'DET'), (('fifth-largest', 'NOUN'), ('fifth-largest', 'ADJ'))]]\n"
     ]
    }
   ],
   "source": [
    "incorrect_tagged_cases = [[test_run_base[i-1],j] for i, j in enumerate(zip(tagged_seq, test_run_base)) if j[0]!=j[1]]\n",
    "tech1_incorrect_tagged_cases = incorrect_tagged_cases\n",
    "print(incorrect_tagged_cases)"
   ]
  },
  {
   "cell_type": "markdown",
   "metadata": {},
   "source": [
    "### Technique 2 : Applying Laplace Smoothing on the probabilities"
   ]
  },
  {
   "cell_type": "code",
   "execution_count": 97,
   "metadata": {},
   "outputs": [],
   "source": [
    "# Viterbi Heuristic\n",
    "#Applying laplace smoothing to emission and transition probabilities both\n",
    "def Viterbi_2(words, train_bag = train_tagged_words):\n",
    "    state = []\n",
    "    T = list(set([pair[1] for pair in train_bag]))\n",
    "    \n",
    "    for key, word in enumerate(words):\n",
    "        #initialise list of probability column for a given observation\n",
    "        flag=0\n",
    "        #Checking if the word is present or not\n",
    "        if word in not_present_words:\n",
    "            flag=1\n",
    "        \n",
    "        p = [] \n",
    "        for tag in T:\n",
    "            if flag==0:\n",
    "                if key == 0:\n",
    "                    transition_p = tags_df.loc['.', tag]\n",
    "                else:\n",
    "                    transition_p = tags_df.loc[state[-1], tag]\n",
    "            else:\n",
    "                if key == 0:\n",
    "                    transition_p = (tags_df.loc['.', tag]+1)/len(words)\n",
    "                else:\n",
    "                    transition_p = (tags_df.loc[state[-1], tag]+1)/len(words)\n",
    "                \n",
    "            # compute emission and state probabilities based on flag values\n",
    "            if flag==0:\n",
    "                emission_p = word_given_tag(words[key], tag)[0]/word_given_tag(words[key], tag)[1]\n",
    "            else:\n",
    "                emission_p = ((word_given_tag(words[key], tag)[0]/word_given_tag(words[key], tag)[1])+1)/len(words)\n",
    "            \n",
    "            state_probability = transition_p * emission_p\n",
    "              \n",
    "            p.append(state_probability)\n",
    "            \n",
    "        pmax = max(p)\n",
    "        # getting state for which probability is maximum\n",
    "        state_max = T[p.index(pmax)] \n",
    "        state.append(state_max)\n",
    "    return list(zip(words, state))\n",
    "\n"
   ]
  },
  {
   "cell_type": "code",
   "execution_count": 98,
   "metadata": {},
   "outputs": [
    {
     "data": {
      "text/plain": [
       "[[('But', 'CONJ'),\n",
       "  ('they', 'PRON'),\n",
       "  ('have', 'VERB'),\n",
       "  ('obtained', 'VERB'),\n",
       "  ('8300', 'ADJ'),\n",
       "  ('forms', 'NOUN'),\n",
       "  ('without', 'ADP'),\n",
       "  ('court', 'NOUN'),\n",
       "  ('permission', 'NOUN'),\n",
       "  ('and', 'CONJ'),\n",
       "  ('used', 'VERB'),\n",
       "  ('the', 'DET'),\n",
       "  ('information', 'NOUN'),\n",
       "  ('*-1', 'X'),\n",
       "  ('to', 'PRT'),\n",
       "  ('help', 'VERB'),\n",
       "  ('develop', 'VERB'),\n",
       "  ('criminal', 'ADJ'),\n",
       "  ('cases', 'NOUN'),\n",
       "  ('.', '.')],\n",
       " [('Timex', 'NOUN'),\n",
       "  ('had', 'VERB'),\n",
       "  ('requested', 'VERB'),\n",
       "  ('duty-free', 'ADJ'),\n",
       "  ('treatment', 'NOUN'),\n",
       "  ('for', 'ADP'),\n",
       "  ('many', 'ADJ'),\n",
       "  ('types', 'NOUN'),\n",
       "  ('of', 'ADP'),\n",
       "  ('watches', 'NOUN'),\n",
       "  (',', '.'),\n",
       "  ('covered', 'VERB'),\n",
       "  ('*', 'X'),\n",
       "  ('by', 'ADP'),\n",
       "  ('58', 'NUM'),\n",
       "  ('different', 'ADJ'),\n",
       "  ('U.S.', 'NOUN'),\n",
       "  ('tariff', 'NOUN'),\n",
       "  ('classifications', 'NOUN'),\n",
       "  ('.', '.')],\n",
       " [('At', 'ADP'),\n",
       "  ('Greenville', 'NOUN'),\n",
       "  ('High', 'NOUN'),\n",
       "  ('School', 'NOUN'),\n",
       "  (',', '.'),\n",
       "  ('meanwhile', 'ADV'),\n",
       "  (',', '.'),\n",
       "  ('some', 'DET'),\n",
       "  ('students', 'NOUN'),\n",
       "  ('--', '.'),\n",
       "  ('especially', 'ADV'),\n",
       "  ('on', 'ADP'),\n",
       "  ('the', 'DET'),\n",
       "  ('cheerleading', 'NOUN'),\n",
       "  ('squad', 'NOUN'),\n",
       "  ('--', '.'),\n",
       "  ('were', 'VERB'),\n",
       "  ('crushed', 'ADJ'),\n",
       "  ('*-1', 'X'),\n",
       "  ('.', '.')],\n",
       " [('Brazil', 'NOUN'),\n",
       "  ('is', 'VERB'),\n",
       "  ('the', 'DET'),\n",
       "  ('third-largest', 'ADJ'),\n",
       "  ('producer', 'NOUN'),\n",
       "  ('*RNR*-1', 'X'),\n",
       "  ('and', 'CONJ'),\n",
       "  ('the', 'DET'),\n",
       "  ('fifth-largest', 'ADJ'),\n",
       "  ('exporter', 'NOUN'),\n",
       "  ('*RNR*-1', 'X'),\n",
       "  ('of', 'ADP'),\n",
       "  ('sugar', 'NOUN'),\n",
       "  ('in', 'ADP'),\n",
       "  ('the', 'DET'),\n",
       "  ('world', 'NOUN'),\n",
       "  ('.', '.')],\n",
       " [('The', 'DET'),\n",
       "  ('parishioners', 'NOUN'),\n",
       "  ('of', 'ADP'),\n",
       "  ('St.', 'NOUN'),\n",
       "  ('Michael', 'NOUN'),\n",
       "  ('and', 'CONJ'),\n",
       "  ('All', 'DET'),\n",
       "  ('Angels', 'NOUN'),\n",
       "  ('stop', 'VERB'),\n",
       "  ('*-1', 'X'),\n",
       "  ('to', 'PRT'),\n",
       "  ('chat', 'VERB'),\n",
       "  ('at', 'ADP'),\n",
       "  ('the', 'DET'),\n",
       "  ('church', 'NOUN'),\n",
       "  ('door', 'NOUN'),\n",
       "  (',', '.'),\n",
       "  ('as', 'ADP'),\n",
       "  ('members', 'NOUN'),\n",
       "  ('here', 'ADV'),\n",
       "  ('always', 'ADV'),\n",
       "  ('have', 'VERB'),\n",
       "  ('*?*', 'X'),\n",
       "  ('.', '.')]]"
      ]
     },
     "execution_count": 98,
     "metadata": {},
     "output_type": "execute_result"
    }
   ],
   "source": [
    "# Running on entire test dataset would take more than 3-4hrs. \n",
    "# Let's test our Viterbi algorithm on a few sample sentences of test dataset\n",
    "\n",
    "random.seed(42)\n",
    "\n",
    "# choose random 5 sents\n",
    "rndom = [random.randint(1,len(test_set)) for x in range(5)]\n",
    "\n",
    "# list of sents\n",
    "test_run = [test_set[i] for i in rndom]\n",
    "\n",
    "# list of tagged words\n",
    "test_run_base = [tup for sent in test_run for tup in sent]\n",
    "\n",
    "# list of untagged words\n",
    "test_tagged_words = [tup[0] for sent in test_run for tup in sent]\n",
    "test_run"
   ]
  },
  {
   "cell_type": "code",
   "execution_count": 99,
   "metadata": {},
   "outputs": [
    {
     "name": "stdout",
     "output_type": "stream",
     "text": [
      "Time taken in seconds:  26.088366985321045\n",
      "[('But', 'CONJ'), ('they', 'PRON'), ('have', 'VERB'), ('obtained', 'VERB'), ('8300', 'NUM'), ('forms', 'NOUN'), ('without', 'ADP'), ('court', 'NOUN'), ('permission', 'NOUN'), ('and', 'CONJ'), ('used', 'VERB'), ('the', 'DET'), ('information', 'NOUN'), ('*-1', 'X'), ('to', 'PRT'), ('help', 'VERB'), ('develop', 'VERB'), ('criminal', 'ADJ'), ('cases', 'NOUN'), ('.', '.'), ('Timex', 'NOUN'), ('had', 'VERB'), ('requested', 'VERB'), ('duty-free', 'ADJ'), ('treatment', 'NOUN'), ('for', 'ADP'), ('many', 'ADJ'), ('types', 'NOUN'), ('of', 'ADP'), ('watches', 'NOUN'), (',', '.'), ('covered', 'VERB'), ('*', 'X'), ('by', 'ADP'), ('58', 'NUM'), ('different', 'ADJ'), ('U.S.', 'NOUN'), ('tariff', 'NOUN'), ('classifications', 'NOUN'), ('.', '.'), ('At', 'ADP'), ('Greenville', 'NOUN'), ('High', 'NOUN'), ('School', 'NOUN'), (',', '.'), ('meanwhile', 'ADV'), (',', '.'), ('some', 'DET'), ('students', 'NOUN'), ('--', '.'), ('especially', 'ADV'), ('on', 'ADP'), ('the', 'DET'), ('cheerleading', 'NOUN'), ('squad', 'NOUN'), ('--', '.'), ('were', 'VERB'), ('crushed', 'X'), ('*-1', 'X'), ('.', '.'), ('Brazil', 'NOUN'), ('is', 'VERB'), ('the', 'DET'), ('third-largest', 'NOUN'), ('producer', 'NOUN'), ('*RNR*-1', 'X'), ('and', 'CONJ'), ('the', 'DET'), ('fifth-largest', 'NOUN'), ('exporter', 'NOUN'), ('*RNR*-1', 'X'), ('of', 'ADP'), ('sugar', 'NOUN'), ('in', 'ADP'), ('the', 'DET'), ('world', 'NOUN'), ('.', '.'), ('The', 'DET'), ('parishioners', 'NOUN'), ('of', 'ADP'), ('St.', 'NOUN'), ('Michael', 'NOUN'), ('and', 'CONJ'), ('All', 'DET'), ('Angels', 'NOUN'), ('stop', 'VERB'), ('*-1', 'X'), ('to', 'PRT'), ('chat', 'VERB'), ('at', 'ADP'), ('the', 'DET'), ('church', 'NOUN'), ('door', 'NOUN'), (',', '.'), ('as', 'ADP'), ('members', 'NOUN'), ('here', 'ADV'), ('always', 'ADV'), ('have', 'VERB'), ('*?*', 'X'), ('.', '.')]\n"
     ]
    }
   ],
   "source": [
    "# tagging the test sentences\n",
    "start = time.time()\n",
    "tagged_seq = Viterbi_2(test_tagged_words)\n",
    "end = time.time()\n",
    "difference = end-start\n",
    "\n",
    "print(\"Time taken in seconds: \", difference)\n",
    "print(tagged_seq)\n",
    "#print(test_run_base)"
   ]
  },
  {
   "cell_type": "markdown",
   "metadata": {},
   "source": [
    "#### Evaluating tagging accuracy"
   ]
  },
  {
   "cell_type": "code",
   "execution_count": 100,
   "metadata": {},
   "outputs": [
    {
     "name": "stdout",
     "output_type": "stream",
     "text": [
      "0.9603960396039604\n"
     ]
    }
   ],
   "source": [
    "# accuracy\n",
    "check = [i for i, j in zip(tagged_seq, test_run_base) if i == j] \n",
    "accuracy = len(check)/len(tagged_seq)\n",
    "tech2_accuracy = accuracy\n",
    "print(accuracy)"
   ]
  },
  {
   "cell_type": "code",
   "execution_count": 101,
   "metadata": {},
   "outputs": [
    {
     "name": "stdout",
     "output_type": "stream",
     "text": [
      "[[('obtained', 'VERB'), (('8300', 'NUM'), ('8300', 'ADJ'))], [('were', 'VERB'), (('crushed', 'X'), ('crushed', 'ADJ'))], [('the', 'DET'), (('third-largest', 'NOUN'), ('third-largest', 'ADJ'))], [('the', 'DET'), (('fifth-largest', 'NOUN'), ('fifth-largest', 'ADJ'))]]\n"
     ]
    }
   ],
   "source": [
    "incorrect_tagged_cases = [[test_run_base[i-1],j] for i, j in enumerate(zip(tagged_seq, test_run_base)) if j[0]!=j[1]]\n",
    "tech2_incorrect_tagged_cases = incorrect_tagged_cases\n",
    "print(incorrect_tagged_cases)"
   ]
  },
  {
   "cell_type": "markdown",
   "metadata": {},
   "source": [
    "### Compare the tagging accuracies of the modifications with the vanilla Viterbi algorithm"
   ]
  },
  {
   "cell_type": "code",
   "execution_count": 102,
   "metadata": {},
   "outputs": [
    {
     "name": "stdout",
     "output_type": "stream",
     "text": [
      "Vanilla Viterbi Accuracy: 0.900990099009901\n"
     ]
    }
   ],
   "source": [
    "print(\"Vanilla Viterbi Accuracy: \" +str(vanilla_accuracy))"
   ]
  },
  {
   "cell_type": "code",
   "execution_count": 103,
   "metadata": {},
   "outputs": [
    {
     "name": "stdout",
     "output_type": "stream",
     "text": [
      "Technique 1's accuracy: 0.9603960396039604\n"
     ]
    }
   ],
   "source": [
    "print(\"Technique 1's accuracy: \"+str(tech1_accuracy))"
   ]
  },
  {
   "cell_type": "code",
   "execution_count": 104,
   "metadata": {},
   "outputs": [
    {
     "name": "stdout",
     "output_type": "stream",
     "text": [
      "Technique 2's accuracy: 0.9603960396039604\n"
     ]
    }
   ],
   "source": [
    "print(\"Technique 2's accuracy: \"+str(tech2_accuracy))"
   ]
  },
  {
   "cell_type": "markdown",
   "metadata": {},
   "source": [
    "### List down cases which were incorrectly tagged by original POS tagger and got corrected by your modifications"
   ]
  },
  {
   "cell_type": "markdown",
   "metadata": {},
   "source": [
    "#### Cases are:-\n",
    "1. [('tariff', 'NOUN'), (('classifications', 'DET'), ('classifications', 'NOUN'))]\n",
    "2. [('the', 'DET'), (('cheerleading', 'DET'), ('cheerleading', 'NOUN'))]\n",
    "3. [('cheerleading', 'NOUN'), (('squad', 'DET'), ('squad', 'NOUN'))]\n",
    "4. [('The', 'DET'), (('parishioners', 'DET'), ('parishioners', 'NOUN'))]\n",
    "5. [('All', 'DET'), (('Angels', 'DET'), ('Angels', 'NOUN'))]\n",
    "6. [('to', 'PRT'), (('chat', 'DET'), ('chat', 'VERB'))]"
   ]
  },
  {
   "cell_type": "code",
   "execution_count": 105,
   "metadata": {},
   "outputs": [
    {
     "name": "stdout",
     "output_type": "stream",
     "text": [
      "[('obtained', 'VERB'), (('8300', 'NUM'), ('8300', 'ADJ'))]\n",
      "[('tariff', 'NOUN'), (('classifications', 'DET'), ('classifications', 'NOUN'))]\n",
      "[('the', 'DET'), (('cheerleading', 'DET'), ('cheerleading', 'NOUN'))]\n",
      "[('cheerleading', 'NOUN'), (('squad', 'DET'), ('squad', 'NOUN'))]\n",
      "[('were', 'VERB'), (('crushed', 'DET'), ('crushed', 'ADJ'))]\n",
      "[('the', 'DET'), (('third-largest', 'DET'), ('third-largest', 'ADJ'))]\n",
      "[('the', 'DET'), (('fifth-largest', 'DET'), ('fifth-largest', 'ADJ'))]\n",
      "[('The', 'DET'), (('parishioners', 'DET'), ('parishioners', 'NOUN'))]\n",
      "[('All', 'DET'), (('Angels', 'DET'), ('Angels', 'NOUN'))]\n",
      "[('to', 'PRT'), (('chat', 'DET'), ('chat', 'VERB'))]\n"
     ]
    }
   ],
   "source": [
    "for tag in vanilla_incorrect_tagged_cases:\n",
    "    print(tag)"
   ]
  },
  {
   "cell_type": "code",
   "execution_count": 106,
   "metadata": {},
   "outputs": [
    {
     "name": "stdout",
     "output_type": "stream",
     "text": [
      "[('obtained', 'VERB'), (('8300', 'NUM'), ('8300', 'ADJ'))]\n",
      "[('were', 'VERB'), (('crushed', 'X'), ('crushed', 'ADJ'))]\n",
      "[('the', 'DET'), (('third-largest', 'NOUN'), ('third-largest', 'ADJ'))]\n",
      "[('the', 'DET'), (('fifth-largest', 'NOUN'), ('fifth-largest', 'ADJ'))]\n"
     ]
    }
   ],
   "source": [
    "for tag in tech1_incorrect_tagged_cases:\n",
    "    print(tag)"
   ]
  },
  {
   "cell_type": "code",
   "execution_count": 107,
   "metadata": {},
   "outputs": [
    {
     "name": "stdout",
     "output_type": "stream",
     "text": [
      "[('obtained', 'VERB'), (('8300', 'NUM'), ('8300', 'ADJ'))]\n",
      "[('were', 'VERB'), (('crushed', 'X'), ('crushed', 'ADJ'))]\n",
      "[('the', 'DET'), (('third-largest', 'NOUN'), ('third-largest', 'ADJ'))]\n",
      "[('the', 'DET'), (('fifth-largest', 'NOUN'), ('fifth-largest', 'ADJ'))]\n"
     ]
    }
   ],
   "source": [
    "for tag in tech2_incorrect_tagged_cases:\n",
    "    print(tag)"
   ]
  }
 ],
 "metadata": {
  "kernelspec": {
   "display_name": "Python 3",
   "language": "python",
   "name": "python3"
  },
  "language_info": {
   "codemirror_mode": {
    "name": "ipython",
    "version": 3
   },
   "file_extension": ".py",
   "mimetype": "text/x-python",
   "name": "python",
   "nbconvert_exporter": "python",
   "pygments_lexer": "ipython3",
   "version": "3.8.3"
  }
 },
 "nbformat": 4,
 "nbformat_minor": 2
}
